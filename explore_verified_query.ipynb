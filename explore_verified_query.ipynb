{
 "cells": [
  {
   "cell_type": "code",
   "execution_count": 1,
   "metadata": {},
   "outputs": [
    {
     "name": "stderr",
     "output_type": "stream",
     "text": [
      "/Users/avenugopal/.local/share/virtualenvs/smart_query_assistant-PYJH9x9M/lib/python3.11/site-packages/tqdm/auto.py:21: TqdmWarning: IProgress not found. Please update jupyter and ipywidgets. See https://ipywidgets.readthedocs.io/en/stable/user_install.html\n",
      "  from .autonotebook import tqdm as notebook_tqdm\n"
     ]
    }
   ],
   "source": [
    "import os\n",
    "import logging\n",
    "import json\n",
    "from datetime import datetime\n",
    "from pprint import pprint\n",
    "\n",
    "# Import the verified_query module\n",
    "from app.verified_query import (\n",
    "    VerifiedQuery,\n",
    "    Question,\n",
    "    get_verified_query,\n",
    "    get_verified_queries_by_vector_search,\n",
    "    get_best_query,\n",
    "    get_query_recommendations,\n",
    "    get_follow_up_queries,\n",
    "    modify_query\n",
    ")\n",
    "from app import config\n",
    "\n",
    "# For database connection\n",
    "from sqlalchemy import create_engine, text\n",
    "from sqlalchemy.orm import Session\n",
    "\n",
    "# For LLM service\n",
    "from app.llm_service import LLMService\n",
    "\n",
    "# Set up logging\n",
    "logging.basicConfig(level=logging.DEBUG, format='%(asctime)s - %(name)s - %(levelname)s - %(message)s')\n",
    "logger = logging.getLogger(__name__)\n",
    "\n",
    "# Configure database connections\n",
    "engine = create_engine(config.APPLICATION_DB_CONNECTION_STRING)\n",
    "insurance_db_engine = create_engine(config.BUSINESS_DB_CONNECTION_STRING)\n",
    "\n",
    "# Initialize LLM service\n",
    "llm_service = LLMService()"
   ]
  },
  {
   "cell_type": "markdown",
   "metadata": {},
   "source": [
    "## Testing test_query_recommendations"
   ]
  },
  {
   "cell_type": "code",
   "execution_count": 2,
   "metadata": {},
   "outputs": [
    {
     "data": {
      "text/plain": [
       "''"
      ]
     },
     "execution_count": 2,
     "metadata": {},
     "output_type": "execute_result"
    }
   ],
   "source": [
    "os.getenv(\"ANTHROPIC_API_KEY\", \"\")"
   ]
  },
  {
   "cell_type": "code",
   "execution_count": 3,
   "metadata": {},
   "outputs": [
    {
     "name": "stdout",
     "output_type": "stream",
     "text": [
      "\n",
      "Selected query: Top Performing Agencies by Premium\n",
      "SQL:\n",
      "SELECT \n",
      "  a.agency_id,\n",
      "  a.agency_name,\n",
      "  a.region,\n",
      "  a.tier,\n",
      "  COUNT(p.policy_id) AS policy_count,\n",
      "  SUM(p.premium_amount) AS total_premium,\n",
      "  AVG(p.premium_amount) AS avg_premium\n",
      "FROM \n",
      "  agencies a\n",
      "  JOIN agents ag ON a.agency_id = ag.agency_id\n",
      "  JOIN policies p ON ag.agent_id = p.agent_id\n",
      "WHERE \n",
      "  p.status = 'active' -- active, lapsed, cancelled\n",
      "GROUP BY \n",
      "  a.agency_id, a.agency_name, a.region, a.tier\n",
      "ORDER BY \n",
      "  total_premium DESC\n",
      "LIMIT 10;\n"
     ]
    }
   ],
   "source": [
    "with Session(engine) as db:\n",
    "    # First get a query to work with\n",
    "    query_id = input(\"Enter a query ID to get recommendations for (or press Enter for default): \")\n",
    "    if not query_id:\n",
    "        query_id = \"vq_top_agencies_premium\"\n",
    "    \n",
    "    vq = get_verified_query(query_id, db)\n",
    "    if not vq:\n",
    "        print(f\"No query found with ID: {query_id}\")\n",
    "    else:\n",
    "    \n",
    "        print(f\"\\nSelected query: {vq.name}\")\n",
    "        print(f\"SQL:\\n{vq.sql}\")"
   ]
  },
  {
   "cell_type": "code",
   "execution_count": 4,
   "metadata": {},
   "outputs": [
    {
     "name": "stdout",
     "output_type": "stream",
     "text": [
      "Using default question: 'Which agencies in my region generated the most premium in current quarter?'\n"
     ]
    }
   ],
   "source": [
    "# Create context with user question\n",
    "user_question = input(\"\\nEnter user question for tailoring recommendations: \")\n",
    "if not user_question:\n",
    "    user_question = \"Which agencies in my region generated the most premium in current quarter?\"\n",
    "    print(f\"Using default question: '{user_question}'\")"
   ]
  },
  {
   "cell_type": "code",
   "execution_count": 5,
   "metadata": {},
   "outputs": [],
   "source": [
    "# Add some sample context\n",
    "context = {\n",
    "    \"calendar_context\": \"Current quarter: 2025 Q2, Previous quarter: 2025 Q1\",\n",
    "    \"user_profile\": \"Region: Northeast, LOB: Personal Insurance\",\n",
    "}"
   ]
  },
  {
   "cell_type": "code",
   "execution_count": 6,
   "metadata": {},
   "outputs": [
    {
     "name": "stderr",
     "output_type": "stream",
     "text": [
      "2025-04-30 22:01:01,808 - app.verified_query - DEBUG - User prompt for LLM: SQL:\n",
      "    SELECT \n",
      "  a.agency_id,\n",
      "  a.agency_name,\n",
      "  a.region,\n",
      "  a.tier,\n",
      "  COUNT(p.policy_id) AS policy_count,\n",
      "  SUM(p.premium_amount) AS total_premium,\n",
      "  AVG(p.premium_amount) AS avg_premium\n",
      "FROM \n",
      "  agencies a\n",
      "  JOIN agents ag ON a.agency_id = ag.agency_id\n",
      "  JOIN policies p ON ag.agent_id = p.agent_id\n",
      "WHERE \n",
      "  p.status = 'active' -- active, lapsed, cancelled\n",
      "GROUP BY \n",
      "  a.agency_id, a.agency_name, a.region, a.tier\n",
      "ORDER BY \n",
      "  total_premium DESC\n",
      "LIMIT 10;\n",
      "\n",
      "    Explanation:\n",
      "    This query calculates the total premium amount generated by each agency.  It joins the agencies, agents, and policies tables to aggregate premium amounts for active policies, then sorts them by total premium in descending order and limits result to 10 records.\n",
      "\n",
      "\n",
      "    This SQL query is designed to answer the following questions:\n",
      "    [\n",
      "  \"Which agencies generate the most premium?\",\n",
      "  \"What are our top agencies by premium revenue?\",\n",
      "  \"Which agencies have the highest premium amounts?\",\n",
      "  \"Show me the agencies with the most premium\"\n",
      "]\n",
      "\n",
      "    Tailoring instructions for the SQL:\n",
      "    Modification guidelines: 1. Filter conditions:\n",
      "    - Policy status: Can be modified to 'active', 'lapsed', or 'cancelled' using values from comments\n",
      "    - Region filter: Can be added as \"AND a.region = '[region]'\" to filter by specific region - West, Midwest, Northeast and Southeast\n",
      "    - Tier filter: Can be added as \"AND a.tier = '[tier]'\" to filter by agency tier - Gold, Silver, Bronze, Platinum\n",
      "    \n",
      "2. Time period:\n",
      "    - For specific time periods, add \"AND p.start_date BETWEEN '[start_date]' AND '[end_date]'\"\n",
      "    - Use ISO format dates (YYYY-MM-DD)\n",
      "    \n",
      "3. Field selection:\n",
      "    - Fields a.agency_id and a.agency_name must always be included in SELECT and GROUP BY\n",
      "    - Fields a.region, a.city, a.state and a.tier can be removed for general result\n",
      "    - Additional fields from agencies table can be added if available (city, state, establishment_date)\n",
      "    \n",
      "4. GROUP BY modifications:\n",
      "    - Any field added to or removed from SELECT should be correspondingly added to or removed from GROUP BY\n",
      "    - Exception: Aggregate functions (SUM, COUNT, AVG) should not be in GROUP BY\n",
      "    \n",
      "5. Result limiting:\n",
      "    - LIMIT clause can be adjusted or removed based on needs\n",
      "\n",
      "\n",
      "    User question that the SQL must me tailored to answer: Which agencies in my region generated the most premium in current quarter?\n",
      "\n",
      "    Calendar Information: Current quarter: 2025 Q2, Previous quarter: 2025 Q1\n",
      "\n",
      "    User Information: Region: Northeast, LOB: Personal Insurance\n",
      "\n",
      "    Other Context: None\n",
      "\n",
      "    Based on the SQL and the user's question, provide specific recommendations for tailoring the SQL query.\n",
      "    Follow the tailoring instructions and identify exactly what changes need to be made.\n",
      "\n",
      "    Return a JSON with these fields:\n",
      "    - \"modifications_needed\": boolean indicating if modifications are needed\n",
      "    - \"modifications\": list of specific modifications to make, with each item containing:\n",
      "    - \"type\": modification type (e.g., \"filter\", \"column\", \"grouping\", \"sorting\")\n",
      "    - \"description\": detailed description of the change\n",
      "    - \"sql_impact\": how it affects the SQL query\n",
      "    - \"explanation\": explanation of why these modifications are recommended\n",
      "    \n",
      "2025-04-30 22:01:01,809 - app.verified_query - DEBUG - System prompt for LLM: You are an expert SQL developer for postgresql. \n",
      "    Your task is to analyze a verified SQL query and provide recommendations for tailoring it to the user's specific needs.\n",
      "2025-04-30 22:01:01,812 - openai._base_client - DEBUG - Request options: {'method': 'post', 'url': '/chat/completions', 'files': None, 'idempotency_key': 'stainless-python-retry-c6dcf194-3045-46be-8ac1-83ace4e871bc', 'json_data': {'messages': [{'role': 'system', 'content': \"You are an expert SQL developer for postgresql. \\n    Your task is to analyze a verified SQL query and provide recommendations for tailoring it to the user's specific needs. Return your response as valid JSON.\"}, {'role': 'user', 'content': 'SQL:\\n    SELECT \\n  a.agency_id,\\n  a.agency_name,\\n  a.region,\\n  a.tier,\\n  COUNT(p.policy_id) AS policy_count,\\n  SUM(p.premium_amount) AS total_premium,\\n  AVG(p.premium_amount) AS avg_premium\\nFROM \\n  agencies a\\n  JOIN agents ag ON a.agency_id = ag.agency_id\\n  JOIN policies p ON ag.agent_id = p.agent_id\\nWHERE \\n  p.status = \\'active\\' -- active, lapsed, cancelled\\nGROUP BY \\n  a.agency_id, a.agency_name, a.region, a.tier\\nORDER BY \\n  total_premium DESC\\nLIMIT 10;\\n\\n    Explanation:\\n    This query calculates the total premium amount generated by each agency.  It joins the agencies, agents, and policies tables to aggregate premium amounts for active policies, then sorts them by total premium in descending order and limits result to 10 records.\\n\\n\\n    This SQL query is designed to answer the following questions:\\n    [\\n  \"Which agencies generate the most premium?\",\\n  \"What are our top agencies by premium revenue?\",\\n  \"Which agencies have the highest premium amounts?\",\\n  \"Show me the agencies with the most premium\"\\n]\\n\\n    Tailoring instructions for the SQL:\\n    Modification guidelines: 1. Filter conditions:\\n    - Policy status: Can be modified to \\'active\\', \\'lapsed\\', or \\'cancelled\\' using values from comments\\n    - Region filter: Can be added as \"AND a.region = \\'[region]\\'\" to filter by specific region - West, Midwest, Northeast and Southeast\\n    - Tier filter: Can be added as \"AND a.tier = \\'[tier]\\'\" to filter by agency tier - Gold, Silver, Bronze, Platinum\\n    \\n2. Time period:\\n    - For specific time periods, add \"AND p.start_date BETWEEN \\'[start_date]\\' AND \\'[end_date]\\'\"\\n    - Use ISO format dates (YYYY-MM-DD)\\n    \\n3. Field selection:\\n    - Fields a.agency_id and a.agency_name must always be included in SELECT and GROUP BY\\n    - Fields a.region, a.city, a.state and a.tier can be removed for general result\\n    - Additional fields from agencies table can be added if available (city, state, establishment_date)\\n    \\n4. GROUP BY modifications:\\n    - Any field added to or removed from SELECT should be correspondingly added to or removed from GROUP BY\\n    - Exception: Aggregate functions (SUM, COUNT, AVG) should not be in GROUP BY\\n    \\n5. Result limiting:\\n    - LIMIT clause can be adjusted or removed based on needs\\n\\n\\n    User question that the SQL must me tailored to answer: Which agencies in my region generated the most premium in current quarter?\\n\\n    Calendar Information: Current quarter: 2025 Q2, Previous quarter: 2025 Q1\\n\\n    User Information: Region: Northeast, LOB: Personal Insurance\\n\\n    Other Context: None\\n\\n    Based on the SQL and the user\\'s question, provide specific recommendations for tailoring the SQL query.\\n    Follow the tailoring instructions and identify exactly what changes need to be made.\\n\\n    Return a JSON with these fields:\\n    - \"modifications_needed\": boolean indicating if modifications are needed\\n    - \"modifications\": list of specific modifications to make, with each item containing:\\n    - \"type\": modification type (e.g., \"filter\", \"column\", \"grouping\", \"sorting\")\\n    - \"description\": detailed description of the change\\n    - \"sql_impact\": how it affects the SQL query\\n    - \"explanation\": explanation of why these modifications are recommended\\n    '}], 'model': 'gpt-3.5-turbo', 'max_tokens': 2000, 'temperature': 0.1}}\n",
      "2025-04-30 22:01:01,812 - openai._base_client - DEBUG - Sending HTTP Request: POST https://api.openai.com/v1/chat/completions\n",
      "2025-04-30 22:01:01,813 - httpcore.connection - DEBUG - connect_tcp.started host='api.openai.com' port=443 local_address=None timeout=5.0 socket_options=None\n",
      "2025-04-30 22:01:01,846 - httpcore.connection - DEBUG - connect_tcp.complete return_value=<httpcore._backends.sync.SyncStream object at 0x31cd82bd0>\n",
      "2025-04-30 22:01:01,846 - httpcore.connection - DEBUG - start_tls.started ssl_context=<ssl.SSLContext object at 0x31ce3c0e0> server_hostname='api.openai.com' timeout=5.0\n",
      "2025-04-30 22:01:01,865 - httpcore.connection - DEBUG - start_tls.complete return_value=<httpcore._backends.sync.SyncStream object at 0x31ce69e90>\n",
      "2025-04-30 22:01:01,865 - httpcore.http11 - DEBUG - send_request_headers.started request=<Request [b'POST']>\n",
      "2025-04-30 22:01:01,866 - httpcore.http11 - DEBUG - send_request_headers.complete\n",
      "2025-04-30 22:01:01,867 - httpcore.http11 - DEBUG - send_request_body.started request=<Request [b'POST']>\n",
      "2025-04-30 22:01:01,868 - httpcore.http11 - DEBUG - send_request_body.complete\n",
      "2025-04-30 22:01:01,868 - httpcore.http11 - DEBUG - receive_response_headers.started request=<Request [b'POST']>\n"
     ]
    },
    {
     "name": "stdout",
     "output_type": "stream",
     "text": [
      "\n",
      "Getting recommendations from LLM...\n",
      "Getting recommendations for tailoring the query\n",
      "-------------->>>>>>>>>>>> Getting recommendations\n"
     ]
    },
    {
     "name": "stderr",
     "output_type": "stream",
     "text": [
      "2025-04-30 22:01:02,051 - httpcore.http11 - DEBUG - receive_response_headers.complete return_value=(b'HTTP/1.1', 429, b'Too Many Requests', [(b'Date', b'Thu, 01 May 2025 03:01:02 GMT'), (b'Content-Type', b'application/json; charset=utf-8'), (b'Content-Length', b'337'), (b'Connection', b'keep-alive'), (b'vary', b'Origin'), (b'x-request-id', b'req_5c0d793038fd0254d52ae6cdf7079ad1'), (b'strict-transport-security', b'max-age=31536000; includeSubDomains; preload'), (b'cf-cache-status', b'DYNAMIC'), (b'Set-Cookie', b'__cf_bm=hicZrK2kYQGsuR4DvE7anqR5rv6Z3zBrrAvh9iLVu6s-1746068462-1.0.1.1-h6F_3vcZ6gofB3EZAUY8tCn6EFUJd.Sxm3.x7rpswy2pxDLRLaTH4seeZq6hJBK0GeE..saab9hDrb9NM6kv6GkQFlZylv5XypNgLbZe9_4; path=/; expires=Thu, 01-May-25 03:31:02 GMT; domain=.api.openai.com; HttpOnly; Secure; SameSite=None'), (b'X-Content-Type-Options', b'nosniff'), (b'Set-Cookie', b'_cfuvid=uY3T4PDjGoEG_jQx8r3JVXN3rBBVK1N.s0r9ipi_DXg-1746068462048-0.0.1.1-604800000; path=/; domain=.api.openai.com; HttpOnly; Secure; SameSite=None'), (b'Server', b'cloudflare'), (b'CF-RAY', b'938c082ec9730ccc-ORD'), (b'alt-svc', b'h3=\":443\"; ma=86400')])\n",
      "2025-04-30 22:01:02,052 - httpx - INFO - HTTP Request: POST https://api.openai.com/v1/chat/completions \"HTTP/1.1 429 Too Many Requests\"\n",
      "2025-04-30 22:01:02,052 - httpcore.http11 - DEBUG - receive_response_body.started request=<Request [b'POST']>\n",
      "2025-04-30 22:01:02,052 - httpcore.http11 - DEBUG - receive_response_body.complete\n",
      "2025-04-30 22:01:02,053 - httpcore.http11 - DEBUG - response_closed.started\n",
      "2025-04-30 22:01:02,053 - httpcore.http11 - DEBUG - response_closed.complete\n",
      "2025-04-30 22:01:02,054 - openai._base_client - DEBUG - HTTP Response: POST https://api.openai.com/v1/chat/completions \"429 Too Many Requests\" Headers([('date', 'Thu, 01 May 2025 03:01:02 GMT'), ('content-type', 'application/json; charset=utf-8'), ('content-length', '337'), ('connection', 'keep-alive'), ('vary', 'Origin'), ('x-request-id', 'req_5c0d793038fd0254d52ae6cdf7079ad1'), ('strict-transport-security', 'max-age=31536000; includeSubDomains; preload'), ('cf-cache-status', 'DYNAMIC'), ('set-cookie', '__cf_bm=hicZrK2kYQGsuR4DvE7anqR5rv6Z3zBrrAvh9iLVu6s-1746068462-1.0.1.1-h6F_3vcZ6gofB3EZAUY8tCn6EFUJd.Sxm3.x7rpswy2pxDLRLaTH4seeZq6hJBK0GeE..saab9hDrb9NM6kv6GkQFlZylv5XypNgLbZe9_4; path=/; expires=Thu, 01-May-25 03:31:02 GMT; domain=.api.openai.com; HttpOnly; Secure; SameSite=None'), ('x-content-type-options', 'nosniff'), ('set-cookie', '_cfuvid=uY3T4PDjGoEG_jQx8r3JVXN3rBBVK1N.s0r9ipi_DXg-1746068462048-0.0.1.1-604800000; path=/; domain=.api.openai.com; HttpOnly; Secure; SameSite=None'), ('server', 'cloudflare'), ('cf-ray', '938c082ec9730ccc-ORD'), ('alt-svc', 'h3=\":443\"; ma=86400')])\n",
      "2025-04-30 22:01:02,054 - openai._base_client - DEBUG - request_id: req_5c0d793038fd0254d52ae6cdf7079ad1\n",
      "2025-04-30 22:01:02,054 - openai._base_client - DEBUG - Encountered httpx.HTTPStatusError\n",
      "Traceback (most recent call last):\n",
      "  File \"/Users/avenugopal/.local/share/virtualenvs/smart_query_assistant-PYJH9x9M/lib/python3.11/site-packages/openai/_base_client.py\", line 1014, in request\n",
      "    response.raise_for_status()\n",
      "  File \"/Users/avenugopal/.local/share/virtualenvs/smart_query_assistant-PYJH9x9M/lib/python3.11/site-packages/httpx/_models.py\", line 829, in raise_for_status\n",
      "    raise HTTPStatusError(message, request=request, response=self)\n",
      "httpx.HTTPStatusError: Client error '429 Too Many Requests' for url 'https://api.openai.com/v1/chat/completions'\n",
      "For more information check: https://developer.mozilla.org/en-US/docs/Web/HTTP/Status/429\n",
      "2025-04-30 22:01:02,058 - openai._base_client - DEBUG - Retrying due to status code 429\n",
      "2025-04-30 22:01:02,058 - openai._base_client - DEBUG - 2 retries left\n",
      "2025-04-30 22:01:02,058 - openai._base_client - INFO - Retrying request to /chat/completions in 0.426445 seconds\n",
      "2025-04-30 22:01:02,490 - openai._base_client - DEBUG - Request options: {'method': 'post', 'url': '/chat/completions', 'files': None, 'idempotency_key': 'stainless-python-retry-c6dcf194-3045-46be-8ac1-83ace4e871bc', 'json_data': {'messages': [{'role': 'system', 'content': \"You are an expert SQL developer for postgresql. \\n    Your task is to analyze a verified SQL query and provide recommendations for tailoring it to the user's specific needs. Return your response as valid JSON.\"}, {'role': 'user', 'content': 'SQL:\\n    SELECT \\n  a.agency_id,\\n  a.agency_name,\\n  a.region,\\n  a.tier,\\n  COUNT(p.policy_id) AS policy_count,\\n  SUM(p.premium_amount) AS total_premium,\\n  AVG(p.premium_amount) AS avg_premium\\nFROM \\n  agencies a\\n  JOIN agents ag ON a.agency_id = ag.agency_id\\n  JOIN policies p ON ag.agent_id = p.agent_id\\nWHERE \\n  p.status = \\'active\\' -- active, lapsed, cancelled\\nGROUP BY \\n  a.agency_id, a.agency_name, a.region, a.tier\\nORDER BY \\n  total_premium DESC\\nLIMIT 10;\\n\\n    Explanation:\\n    This query calculates the total premium amount generated by each agency.  It joins the agencies, agents, and policies tables to aggregate premium amounts for active policies, then sorts them by total premium in descending order and limits result to 10 records.\\n\\n\\n    This SQL query is designed to answer the following questions:\\n    [\\n  \"Which agencies generate the most premium?\",\\n  \"What are our top agencies by premium revenue?\",\\n  \"Which agencies have the highest premium amounts?\",\\n  \"Show me the agencies with the most premium\"\\n]\\n\\n    Tailoring instructions for the SQL:\\n    Modification guidelines: 1. Filter conditions:\\n    - Policy status: Can be modified to \\'active\\', \\'lapsed\\', or \\'cancelled\\' using values from comments\\n    - Region filter: Can be added as \"AND a.region = \\'[region]\\'\" to filter by specific region - West, Midwest, Northeast and Southeast\\n    - Tier filter: Can be added as \"AND a.tier = \\'[tier]\\'\" to filter by agency tier - Gold, Silver, Bronze, Platinum\\n    \\n2. Time period:\\n    - For specific time periods, add \"AND p.start_date BETWEEN \\'[start_date]\\' AND \\'[end_date]\\'\"\\n    - Use ISO format dates (YYYY-MM-DD)\\n    \\n3. Field selection:\\n    - Fields a.agency_id and a.agency_name must always be included in SELECT and GROUP BY\\n    - Fields a.region, a.city, a.state and a.tier can be removed for general result\\n    - Additional fields from agencies table can be added if available (city, state, establishment_date)\\n    \\n4. GROUP BY modifications:\\n    - Any field added to or removed from SELECT should be correspondingly added to or removed from GROUP BY\\n    - Exception: Aggregate functions (SUM, COUNT, AVG) should not be in GROUP BY\\n    \\n5. Result limiting:\\n    - LIMIT clause can be adjusted or removed based on needs\\n\\n\\n    User question that the SQL must me tailored to answer: Which agencies in my region generated the most premium in current quarter?\\n\\n    Calendar Information: Current quarter: 2025 Q2, Previous quarter: 2025 Q1\\n\\n    User Information: Region: Northeast, LOB: Personal Insurance\\n\\n    Other Context: None\\n\\n    Based on the SQL and the user\\'s question, provide specific recommendations for tailoring the SQL query.\\n    Follow the tailoring instructions and identify exactly what changes need to be made.\\n\\n    Return a JSON with these fields:\\n    - \"modifications_needed\": boolean indicating if modifications are needed\\n    - \"modifications\": list of specific modifications to make, with each item containing:\\n    - \"type\": modification type (e.g., \"filter\", \"column\", \"grouping\", \"sorting\")\\n    - \"description\": detailed description of the change\\n    - \"sql_impact\": how it affects the SQL query\\n    - \"explanation\": explanation of why these modifications are recommended\\n    '}], 'model': 'gpt-3.5-turbo', 'max_tokens': 2000, 'temperature': 0.1}}\n",
      "2025-04-30 22:01:02,492 - openai._base_client - DEBUG - Sending HTTP Request: POST https://api.openai.com/v1/chat/completions\n",
      "2025-04-30 22:01:02,495 - httpcore.http11 - DEBUG - send_request_headers.started request=<Request [b'POST']>\n",
      "2025-04-30 22:01:02,497 - httpcore.http11 - DEBUG - send_request_headers.complete\n",
      "2025-04-30 22:01:02,497 - httpcore.http11 - DEBUG - send_request_body.started request=<Request [b'POST']>\n",
      "2025-04-30 22:01:02,498 - httpcore.http11 - DEBUG - send_request_body.complete\n",
      "2025-04-30 22:01:02,498 - httpcore.http11 - DEBUG - receive_response_headers.started request=<Request [b'POST']>\n",
      "2025-04-30 22:01:02,616 - httpcore.http11 - DEBUG - receive_response_headers.complete return_value=(b'HTTP/1.1', 429, b'Too Many Requests', [(b'Date', b'Thu, 01 May 2025 03:01:02 GMT'), (b'Content-Type', b'application/json; charset=utf-8'), (b'Content-Length', b'337'), (b'Connection', b'keep-alive'), (b'vary', b'Origin'), (b'x-request-id', b'req_acb2f56b8109510edda34306937bc674'), (b'strict-transport-security', b'max-age=31536000; includeSubDomains; preload'), (b'cf-cache-status', b'DYNAMIC'), (b'X-Content-Type-Options', b'nosniff'), (b'Server', b'cloudflare'), (b'CF-RAY', b'938c0832bd280ccc-ORD'), (b'alt-svc', b'h3=\":443\"; ma=86400')])\n",
      "2025-04-30 22:01:02,617 - httpx - INFO - HTTP Request: POST https://api.openai.com/v1/chat/completions \"HTTP/1.1 429 Too Many Requests\"\n",
      "2025-04-30 22:01:02,617 - httpcore.http11 - DEBUG - receive_response_body.started request=<Request [b'POST']>\n",
      "2025-04-30 22:01:02,618 - httpcore.http11 - DEBUG - receive_response_body.complete\n",
      "2025-04-30 22:01:02,618 - httpcore.http11 - DEBUG - response_closed.started\n",
      "2025-04-30 22:01:02,618 - httpcore.http11 - DEBUG - response_closed.complete\n",
      "2025-04-30 22:01:02,619 - openai._base_client - DEBUG - HTTP Response: POST https://api.openai.com/v1/chat/completions \"429 Too Many Requests\" Headers({'date': 'Thu, 01 May 2025 03:01:02 GMT', 'content-type': 'application/json; charset=utf-8', 'content-length': '337', 'connection': 'keep-alive', 'vary': 'Origin', 'x-request-id': 'req_acb2f56b8109510edda34306937bc674', 'strict-transport-security': 'max-age=31536000; includeSubDomains; preload', 'cf-cache-status': 'DYNAMIC', 'x-content-type-options': 'nosniff', 'server': 'cloudflare', 'cf-ray': '938c0832bd280ccc-ORD', 'alt-svc': 'h3=\":443\"; ma=86400'})\n",
      "2025-04-30 22:01:02,620 - openai._base_client - DEBUG - request_id: req_acb2f56b8109510edda34306937bc674\n",
      "2025-04-30 22:01:02,620 - openai._base_client - DEBUG - Encountered httpx.HTTPStatusError\n",
      "Traceback (most recent call last):\n",
      "  File \"/Users/avenugopal/.local/share/virtualenvs/smart_query_assistant-PYJH9x9M/lib/python3.11/site-packages/openai/_base_client.py\", line 1014, in request\n",
      "    response.raise_for_status()\n",
      "  File \"/Users/avenugopal/.local/share/virtualenvs/smart_query_assistant-PYJH9x9M/lib/python3.11/site-packages/httpx/_models.py\", line 829, in raise_for_status\n",
      "    raise HTTPStatusError(message, request=request, response=self)\n",
      "httpx.HTTPStatusError: Client error '429 Too Many Requests' for url 'https://api.openai.com/v1/chat/completions'\n",
      "For more information check: https://developer.mozilla.org/en-US/docs/Web/HTTP/Status/429\n",
      "2025-04-30 22:01:02,621 - openai._base_client - DEBUG - Retrying due to status code 429\n",
      "2025-04-30 22:01:02,621 - openai._base_client - DEBUG - 1 retry left\n",
      "2025-04-30 22:01:02,622 - openai._base_client - INFO - Retrying request to /chat/completions in 0.952966 seconds\n",
      "2025-04-30 22:01:03,580 - openai._base_client - DEBUG - Request options: {'method': 'post', 'url': '/chat/completions', 'files': None, 'idempotency_key': 'stainless-python-retry-c6dcf194-3045-46be-8ac1-83ace4e871bc', 'json_data': {'messages': [{'role': 'system', 'content': \"You are an expert SQL developer for postgresql. \\n    Your task is to analyze a verified SQL query and provide recommendations for tailoring it to the user's specific needs. Return your response as valid JSON.\"}, {'role': 'user', 'content': 'SQL:\\n    SELECT \\n  a.agency_id,\\n  a.agency_name,\\n  a.region,\\n  a.tier,\\n  COUNT(p.policy_id) AS policy_count,\\n  SUM(p.premium_amount) AS total_premium,\\n  AVG(p.premium_amount) AS avg_premium\\nFROM \\n  agencies a\\n  JOIN agents ag ON a.agency_id = ag.agency_id\\n  JOIN policies p ON ag.agent_id = p.agent_id\\nWHERE \\n  p.status = \\'active\\' -- active, lapsed, cancelled\\nGROUP BY \\n  a.agency_id, a.agency_name, a.region, a.tier\\nORDER BY \\n  total_premium DESC\\nLIMIT 10;\\n\\n    Explanation:\\n    This query calculates the total premium amount generated by each agency.  It joins the agencies, agents, and policies tables to aggregate premium amounts for active policies, then sorts them by total premium in descending order and limits result to 10 records.\\n\\n\\n    This SQL query is designed to answer the following questions:\\n    [\\n  \"Which agencies generate the most premium?\",\\n  \"What are our top agencies by premium revenue?\",\\n  \"Which agencies have the highest premium amounts?\",\\n  \"Show me the agencies with the most premium\"\\n]\\n\\n    Tailoring instructions for the SQL:\\n    Modification guidelines: 1. Filter conditions:\\n    - Policy status: Can be modified to \\'active\\', \\'lapsed\\', or \\'cancelled\\' using values from comments\\n    - Region filter: Can be added as \"AND a.region = \\'[region]\\'\" to filter by specific region - West, Midwest, Northeast and Southeast\\n    - Tier filter: Can be added as \"AND a.tier = \\'[tier]\\'\" to filter by agency tier - Gold, Silver, Bronze, Platinum\\n    \\n2. Time period:\\n    - For specific time periods, add \"AND p.start_date BETWEEN \\'[start_date]\\' AND \\'[end_date]\\'\"\\n    - Use ISO format dates (YYYY-MM-DD)\\n    \\n3. Field selection:\\n    - Fields a.agency_id and a.agency_name must always be included in SELECT and GROUP BY\\n    - Fields a.region, a.city, a.state and a.tier can be removed for general result\\n    - Additional fields from agencies table can be added if available (city, state, establishment_date)\\n    \\n4. GROUP BY modifications:\\n    - Any field added to or removed from SELECT should be correspondingly added to or removed from GROUP BY\\n    - Exception: Aggregate functions (SUM, COUNT, AVG) should not be in GROUP BY\\n    \\n5. Result limiting:\\n    - LIMIT clause can be adjusted or removed based on needs\\n\\n\\n    User question that the SQL must me tailored to answer: Which agencies in my region generated the most premium in current quarter?\\n\\n    Calendar Information: Current quarter: 2025 Q2, Previous quarter: 2025 Q1\\n\\n    User Information: Region: Northeast, LOB: Personal Insurance\\n\\n    Other Context: None\\n\\n    Based on the SQL and the user\\'s question, provide specific recommendations for tailoring the SQL query.\\n    Follow the tailoring instructions and identify exactly what changes need to be made.\\n\\n    Return a JSON with these fields:\\n    - \"modifications_needed\": boolean indicating if modifications are needed\\n    - \"modifications\": list of specific modifications to make, with each item containing:\\n    - \"type\": modification type (e.g., \"filter\", \"column\", \"grouping\", \"sorting\")\\n    - \"description\": detailed description of the change\\n    - \"sql_impact\": how it affects the SQL query\\n    - \"explanation\": explanation of why these modifications are recommended\\n    '}], 'model': 'gpt-3.5-turbo', 'max_tokens': 2000, 'temperature': 0.1}}\n",
      "2025-04-30 22:01:03,581 - openai._base_client - DEBUG - Sending HTTP Request: POST https://api.openai.com/v1/chat/completions\n",
      "2025-04-30 22:01:03,583 - httpcore.http11 - DEBUG - send_request_headers.started request=<Request [b'POST']>\n",
      "2025-04-30 22:01:03,586 - httpcore.http11 - DEBUG - send_request_headers.complete\n",
      "2025-04-30 22:01:03,586 - httpcore.http11 - DEBUG - send_request_body.started request=<Request [b'POST']>\n",
      "2025-04-30 22:01:03,587 - httpcore.http11 - DEBUG - send_request_body.complete\n",
      "2025-04-30 22:01:03,588 - httpcore.http11 - DEBUG - receive_response_headers.started request=<Request [b'POST']>\n",
      "2025-04-30 22:01:04,068 - httpcore.http11 - DEBUG - receive_response_headers.complete return_value=(b'HTTP/1.1', 429, b'Too Many Requests', [(b'Date', b'Thu, 01 May 2025 03:01:04 GMT'), (b'Content-Type', b'application/json; charset=utf-8'), (b'Content-Length', b'337'), (b'Connection', b'keep-alive'), (b'vary', b'Origin'), (b'x-request-id', b'req_6740a6e953aafe13ebd23d1789a9479a'), (b'strict-transport-security', b'max-age=31536000; includeSubDomains; preload'), (b'cf-cache-status', b'DYNAMIC'), (b'X-Content-Type-Options', b'nosniff'), (b'Server', b'cloudflare'), (b'CF-RAY', b'938c08398ab00ccc-ORD'), (b'alt-svc', b'h3=\":443\"; ma=86400')])\n",
      "2025-04-30 22:01:04,069 - httpx - INFO - HTTP Request: POST https://api.openai.com/v1/chat/completions \"HTTP/1.1 429 Too Many Requests\"\n",
      "2025-04-30 22:01:04,069 - httpcore.http11 - DEBUG - receive_response_body.started request=<Request [b'POST']>\n",
      "2025-04-30 22:01:04,070 - httpcore.http11 - DEBUG - receive_response_body.complete\n",
      "2025-04-30 22:01:04,070 - httpcore.http11 - DEBUG - response_closed.started\n",
      "2025-04-30 22:01:04,070 - httpcore.http11 - DEBUG - response_closed.complete\n",
      "2025-04-30 22:01:04,071 - openai._base_client - DEBUG - HTTP Response: POST https://api.openai.com/v1/chat/completions \"429 Too Many Requests\" Headers({'date': 'Thu, 01 May 2025 03:01:04 GMT', 'content-type': 'application/json; charset=utf-8', 'content-length': '337', 'connection': 'keep-alive', 'vary': 'Origin', 'x-request-id': 'req_6740a6e953aafe13ebd23d1789a9479a', 'strict-transport-security': 'max-age=31536000; includeSubDomains; preload', 'cf-cache-status': 'DYNAMIC', 'x-content-type-options': 'nosniff', 'server': 'cloudflare', 'cf-ray': '938c08398ab00ccc-ORD', 'alt-svc': 'h3=\":443\"; ma=86400'})\n",
      "2025-04-30 22:01:04,071 - openai._base_client - DEBUG - request_id: req_6740a6e953aafe13ebd23d1789a9479a\n",
      "2025-04-30 22:01:04,072 - openai._base_client - DEBUG - Encountered httpx.HTTPStatusError\n",
      "Traceback (most recent call last):\n",
      "  File \"/Users/avenugopal/.local/share/virtualenvs/smart_query_assistant-PYJH9x9M/lib/python3.11/site-packages/openai/_base_client.py\", line 1014, in request\n",
      "    response.raise_for_status()\n",
      "  File \"/Users/avenugopal/.local/share/virtualenvs/smart_query_assistant-PYJH9x9M/lib/python3.11/site-packages/httpx/_models.py\", line 829, in raise_for_status\n",
      "    raise HTTPStatusError(message, request=request, response=self)\n",
      "httpx.HTTPStatusError: Client error '429 Too Many Requests' for url 'https://api.openai.com/v1/chat/completions'\n",
      "For more information check: https://developer.mozilla.org/en-US/docs/Web/HTTP/Status/429\n",
      "2025-04-30 22:01:04,073 - openai._base_client - DEBUG - Re-raising status error\n"
     ]
    },
    {
     "ename": "RateLimitError",
     "evalue": "Error code: 429 - {'error': {'message': 'You exceeded your current quota, please check your plan and billing details. For more information on this error, read the docs: https://platform.openai.com/docs/guides/error-codes/api-errors.', 'type': 'insufficient_quota', 'param': None, 'code': 'insufficient_quota'}}",
     "output_type": "error",
     "traceback": [
      "\u001b[31m---------------------------------------------------------------------------\u001b[39m",
      "\u001b[31mRateLimitError\u001b[39m                            Traceback (most recent call last)",
      "\u001b[36mCell\u001b[39m\u001b[36m \u001b[39m\u001b[32mIn[6]\u001b[39m\u001b[32m, line 2\u001b[39m\n\u001b[32m      1\u001b[39m \u001b[38;5;28mprint\u001b[39m(\u001b[33m\"\u001b[39m\u001b[38;5;130;01m\\n\u001b[39;00m\u001b[33mGetting recommendations from LLM...\u001b[39m\u001b[33m\"\u001b[39m)\n\u001b[32m----> \u001b[39m\u001b[32m2\u001b[39m recommendations = \u001b[43mget_query_recommendations\u001b[49m\u001b[43m(\u001b[49m\u001b[43mvq\u001b[49m\u001b[43m,\u001b[49m\u001b[43m \u001b[49m\u001b[43muser_question\u001b[49m\u001b[43m,\u001b[49m\u001b[43m \u001b[49m\u001b[43mcontext\u001b[49m\u001b[43m,\u001b[49m\u001b[43m \u001b[49m\u001b[43mllm_service\u001b[49m\u001b[43m)\u001b[49m\n\u001b[32m      4\u001b[39m \u001b[38;5;28mprint\u001b[39m(\u001b[33m\"\u001b[39m\u001b[38;5;130;01m\\n\u001b[39;00m\u001b[33mRecommendations:\u001b[39m\u001b[38;5;130;01m\\n\u001b[39;00m\u001b[33m\"\u001b[39m)\n\u001b[32m      5\u001b[39m \u001b[38;5;28mprint\u001b[39m(\u001b[33mf\u001b[39m\u001b[33m\"\u001b[39m\u001b[33mModifications needed: \u001b[39m\u001b[38;5;132;01m{\u001b[39;00mrecommendations.get(\u001b[33m'\u001b[39m\u001b[33mmodifications_needed\u001b[39m\u001b[33m'\u001b[39m,\u001b[38;5;250m \u001b[39m\u001b[38;5;28;01mFalse\u001b[39;00m)\u001b[38;5;132;01m}\u001b[39;00m\u001b[33m\"\u001b[39m)\n",
      "\u001b[36mFile \u001b[39m\u001b[32m~/smart_query_assistant/app/verified_query.py:359\u001b[39m, in \u001b[36mget_query_recommendations\u001b[39m\u001b[34m(verified_query, question, context, llm_service)\u001b[39m\n\u001b[32m    357\u001b[39m \u001b[38;5;66;03m# Get response from LLM\u001b[39;00m\n\u001b[32m    358\u001b[39m \u001b[38;5;28mprint\u001b[39m(\u001b[33m'\u001b[39m\u001b[33m-------------->>>>>>>>>>>> Getting recommendations\u001b[39m\u001b[33m'\u001b[39m)\n\u001b[32m--> \u001b[39m\u001b[32m359\u001b[39m response = \u001b[43mllm_service\u001b[49m\u001b[43m.\u001b[49m\u001b[43mgenerate_structured_output\u001b[49m\u001b[43m(\u001b[49m\n\u001b[32m    360\u001b[39m \u001b[43m    \u001b[49m\u001b[43mprompt\u001b[49m\u001b[43m=\u001b[49m\u001b[43muser_prompt\u001b[49m\u001b[43m,\u001b[49m\n\u001b[32m    361\u001b[39m \u001b[43m    \u001b[49m\u001b[43msystem_prompt\u001b[49m\u001b[43m=\u001b[49m\u001b[43msystem_prompt\u001b[49m\u001b[43m,\u001b[49m\n\u001b[32m    362\u001b[39m \u001b[43m    \u001b[49m\u001b[43mtemperature\u001b[49m\u001b[43m=\u001b[49m\u001b[32;43m0.1\u001b[39;49m\n\u001b[32m    363\u001b[39m \u001b[43m\u001b[49m\u001b[43m)\u001b[49m\n\u001b[32m    365\u001b[39m \u001b[38;5;28;01mreturn\u001b[39;00m response\n",
      "\u001b[36mFile \u001b[39m\u001b[32m~/smart_query_assistant/app/llm_service.py:77\u001b[39m, in \u001b[36mLLMService.generate_structured_output\u001b[39m\u001b[34m(self, prompt, system_prompt, temperature)\u001b[39m\n\u001b[32m     74\u001b[39m \u001b[38;5;28;01melse\u001b[39;00m:\n\u001b[32m     75\u001b[39m     system_prompt = \u001b[33m\"\u001b[39m\u001b[33mReturn your response as valid JSON.\u001b[39m\u001b[33m\"\u001b[39m\n\u001b[32m---> \u001b[39m\u001b[32m77\u001b[39m raw_response = \u001b[38;5;28;43mself\u001b[39;49m\u001b[43m.\u001b[49m\u001b[43mgenerate_text\u001b[49m\u001b[43m(\u001b[49m\n\u001b[32m     78\u001b[39m \u001b[43m    \u001b[49m\u001b[43mprompt\u001b[49m\u001b[43m=\u001b[49m\u001b[43mprompt\u001b[49m\u001b[43m,\u001b[49m\n\u001b[32m     79\u001b[39m \u001b[43m    \u001b[49m\u001b[43msystem_prompt\u001b[49m\u001b[43m=\u001b[49m\u001b[43msystem_prompt\u001b[49m\u001b[43m,\u001b[49m\n\u001b[32m     80\u001b[39m \u001b[43m    \u001b[49m\u001b[43mtemperature\u001b[49m\u001b[43m=\u001b[49m\u001b[43mtemperature\u001b[49m\n\u001b[32m     81\u001b[39m \u001b[43m\u001b[49m\u001b[43m)\u001b[49m\n\u001b[32m     83\u001b[39m \u001b[38;5;66;03m# Try to extract JSON from the response\u001b[39;00m\n\u001b[32m     84\u001b[39m \u001b[38;5;28;01mtry\u001b[39;00m:\n\u001b[32m     85\u001b[39m     \u001b[38;5;66;03m# First, try to parse the entire response as JSON\u001b[39;00m\n",
      "\u001b[36mFile \u001b[39m\u001b[32m~/smart_query_assistant/app/llm_service.py:46\u001b[39m, in \u001b[36mLLMService.generate_text\u001b[39m\u001b[34m(self, prompt, system_prompt, temperature, max_tokens)\u001b[39m\n\u001b[32m     43\u001b[39m         messages.append({\u001b[33m\"\u001b[39m\u001b[33mrole\u001b[39m\u001b[33m\"\u001b[39m: \u001b[33m\"\u001b[39m\u001b[33msystem\u001b[39m\u001b[33m\"\u001b[39m, \u001b[33m\"\u001b[39m\u001b[33mcontent\u001b[39m\u001b[33m\"\u001b[39m: system_prompt})\n\u001b[32m     44\u001b[39m     messages.append({\u001b[33m\"\u001b[39m\u001b[33mrole\u001b[39m\u001b[33m\"\u001b[39m: \u001b[33m\"\u001b[39m\u001b[33muser\u001b[39m\u001b[33m\"\u001b[39m, \u001b[33m\"\u001b[39m\u001b[33mcontent\u001b[39m\u001b[33m\"\u001b[39m: prompt})\n\u001b[32m---> \u001b[39m\u001b[32m46\u001b[39m     response = \u001b[38;5;28;43mself\u001b[39;49m\u001b[43m.\u001b[49m\u001b[43mclient\u001b[49m\u001b[43m.\u001b[49m\u001b[43mchat\u001b[49m\u001b[43m.\u001b[49m\u001b[43mcompletions\u001b[49m\u001b[43m.\u001b[49m\u001b[43mcreate\u001b[49m\u001b[43m(\u001b[49m\n\u001b[32m     47\u001b[39m \u001b[43m        \u001b[49m\u001b[43mmodel\u001b[49m\u001b[43m=\u001b[49m\u001b[33;43m\"\u001b[39;49m\u001b[33;43mgpt-3.5-turbo\u001b[39;49m\u001b[33;43m\"\u001b[39;49m\u001b[43m,\u001b[49m\n\u001b[32m     48\u001b[39m \u001b[43m        \u001b[49m\u001b[43mmessages\u001b[49m\u001b[43m=\u001b[49m\u001b[43mmessages\u001b[49m\u001b[43m,\u001b[49m\n\u001b[32m     49\u001b[39m \u001b[43m        \u001b[49m\u001b[43mtemperature\u001b[49m\u001b[43m=\u001b[49m\u001b[43mtemperature\u001b[49m\u001b[43m,\u001b[49m\n\u001b[32m     50\u001b[39m \u001b[43m        \u001b[49m\u001b[43mmax_tokens\u001b[49m\u001b[43m=\u001b[49m\u001b[43mmax_tokens\u001b[49m\n\u001b[32m     51\u001b[39m \u001b[43m    \u001b[49m\u001b[43m)\u001b[49m\n\u001b[32m     52\u001b[39m     \u001b[38;5;28;01mreturn\u001b[39;00m response.choices[\u001b[32m0\u001b[39m].message.content\n\u001b[32m     54\u001b[39m \u001b[38;5;28;01melif\u001b[39;00m \u001b[38;5;28mself\u001b[39m.provider == \u001b[33m\"\u001b[39m\u001b[33mclaude\u001b[39m\u001b[33m\"\u001b[39m:\n",
      "\u001b[36mFile \u001b[39m\u001b[32m~/.local/share/virtualenvs/smart_query_assistant-PYJH9x9M/lib/python3.11/site-packages/openai/_utils/_utils.py:287\u001b[39m, in \u001b[36mrequired_args.<locals>.inner.<locals>.wrapper\u001b[39m\u001b[34m(*args, **kwargs)\u001b[39m\n\u001b[32m    285\u001b[39m             msg = \u001b[33mf\u001b[39m\u001b[33m\"\u001b[39m\u001b[33mMissing required argument: \u001b[39m\u001b[38;5;132;01m{\u001b[39;00mquote(missing[\u001b[32m0\u001b[39m])\u001b[38;5;132;01m}\u001b[39;00m\u001b[33m\"\u001b[39m\n\u001b[32m    286\u001b[39m     \u001b[38;5;28;01mraise\u001b[39;00m \u001b[38;5;167;01mTypeError\u001b[39;00m(msg)\n\u001b[32m--> \u001b[39m\u001b[32m287\u001b[39m \u001b[38;5;28;01mreturn\u001b[39;00m \u001b[43mfunc\u001b[49m\u001b[43m(\u001b[49m\u001b[43m*\u001b[49m\u001b[43margs\u001b[49m\u001b[43m,\u001b[49m\u001b[43m \u001b[49m\u001b[43m*\u001b[49m\u001b[43m*\u001b[49m\u001b[43mkwargs\u001b[49m\u001b[43m)\u001b[49m\n",
      "\u001b[36mFile \u001b[39m\u001b[32m~/.local/share/virtualenvs/smart_query_assistant-PYJH9x9M/lib/python3.11/site-packages/openai/resources/chat/completions/completions.py:925\u001b[39m, in \u001b[36mCompletions.create\u001b[39m\u001b[34m(self, messages, model, audio, frequency_penalty, function_call, functions, logit_bias, logprobs, max_completion_tokens, max_tokens, metadata, modalities, n, parallel_tool_calls, prediction, presence_penalty, reasoning_effort, response_format, seed, service_tier, stop, store, stream, stream_options, temperature, tool_choice, tools, top_logprobs, top_p, user, web_search_options, extra_headers, extra_query, extra_body, timeout)\u001b[39m\n\u001b[32m    882\u001b[39m \u001b[38;5;129m@required_args\u001b[39m([\u001b[33m\"\u001b[39m\u001b[33mmessages\u001b[39m\u001b[33m\"\u001b[39m, \u001b[33m\"\u001b[39m\u001b[33mmodel\u001b[39m\u001b[33m\"\u001b[39m], [\u001b[33m\"\u001b[39m\u001b[33mmessages\u001b[39m\u001b[33m\"\u001b[39m, \u001b[33m\"\u001b[39m\u001b[33mmodel\u001b[39m\u001b[33m\"\u001b[39m, \u001b[33m\"\u001b[39m\u001b[33mstream\u001b[39m\u001b[33m\"\u001b[39m])\n\u001b[32m    883\u001b[39m \u001b[38;5;28;01mdef\u001b[39;00m\u001b[38;5;250m \u001b[39m\u001b[34mcreate\u001b[39m(\n\u001b[32m    884\u001b[39m     \u001b[38;5;28mself\u001b[39m,\n\u001b[32m   (...)\u001b[39m\u001b[32m    922\u001b[39m     timeout: \u001b[38;5;28mfloat\u001b[39m | httpx.Timeout | \u001b[38;5;28;01mNone\u001b[39;00m | NotGiven = NOT_GIVEN,\n\u001b[32m    923\u001b[39m ) -> ChatCompletion | Stream[ChatCompletionChunk]:\n\u001b[32m    924\u001b[39m     validate_response_format(response_format)\n\u001b[32m--> \u001b[39m\u001b[32m925\u001b[39m     \u001b[38;5;28;01mreturn\u001b[39;00m \u001b[38;5;28;43mself\u001b[39;49m\u001b[43m.\u001b[49m\u001b[43m_post\u001b[49m\u001b[43m(\u001b[49m\n\u001b[32m    926\u001b[39m \u001b[43m        \u001b[49m\u001b[33;43m\"\u001b[39;49m\u001b[33;43m/chat/completions\u001b[39;49m\u001b[33;43m\"\u001b[39;49m\u001b[43m,\u001b[49m\n\u001b[32m    927\u001b[39m \u001b[43m        \u001b[49m\u001b[43mbody\u001b[49m\u001b[43m=\u001b[49m\u001b[43mmaybe_transform\u001b[49m\u001b[43m(\u001b[49m\n\u001b[32m    928\u001b[39m \u001b[43m            \u001b[49m\u001b[43m{\u001b[49m\n\u001b[32m    929\u001b[39m \u001b[43m                \u001b[49m\u001b[33;43m\"\u001b[39;49m\u001b[33;43mmessages\u001b[39;49m\u001b[33;43m\"\u001b[39;49m\u001b[43m:\u001b[49m\u001b[43m \u001b[49m\u001b[43mmessages\u001b[49m\u001b[43m,\u001b[49m\n\u001b[32m    930\u001b[39m \u001b[43m                \u001b[49m\u001b[33;43m\"\u001b[39;49m\u001b[33;43mmodel\u001b[39;49m\u001b[33;43m\"\u001b[39;49m\u001b[43m:\u001b[49m\u001b[43m \u001b[49m\u001b[43mmodel\u001b[49m\u001b[43m,\u001b[49m\n\u001b[32m    931\u001b[39m \u001b[43m                \u001b[49m\u001b[33;43m\"\u001b[39;49m\u001b[33;43maudio\u001b[39;49m\u001b[33;43m\"\u001b[39;49m\u001b[43m:\u001b[49m\u001b[43m \u001b[49m\u001b[43maudio\u001b[49m\u001b[43m,\u001b[49m\n\u001b[32m    932\u001b[39m \u001b[43m                \u001b[49m\u001b[33;43m\"\u001b[39;49m\u001b[33;43mfrequency_penalty\u001b[39;49m\u001b[33;43m\"\u001b[39;49m\u001b[43m:\u001b[49m\u001b[43m \u001b[49m\u001b[43mfrequency_penalty\u001b[49m\u001b[43m,\u001b[49m\n\u001b[32m    933\u001b[39m \u001b[43m                \u001b[49m\u001b[33;43m\"\u001b[39;49m\u001b[33;43mfunction_call\u001b[39;49m\u001b[33;43m\"\u001b[39;49m\u001b[43m:\u001b[49m\u001b[43m \u001b[49m\u001b[43mfunction_call\u001b[49m\u001b[43m,\u001b[49m\n\u001b[32m    934\u001b[39m \u001b[43m                \u001b[49m\u001b[33;43m\"\u001b[39;49m\u001b[33;43mfunctions\u001b[39;49m\u001b[33;43m\"\u001b[39;49m\u001b[43m:\u001b[49m\u001b[43m \u001b[49m\u001b[43mfunctions\u001b[49m\u001b[43m,\u001b[49m\n\u001b[32m    935\u001b[39m \u001b[43m                \u001b[49m\u001b[33;43m\"\u001b[39;49m\u001b[33;43mlogit_bias\u001b[39;49m\u001b[33;43m\"\u001b[39;49m\u001b[43m:\u001b[49m\u001b[43m \u001b[49m\u001b[43mlogit_bias\u001b[49m\u001b[43m,\u001b[49m\n\u001b[32m    936\u001b[39m \u001b[43m                \u001b[49m\u001b[33;43m\"\u001b[39;49m\u001b[33;43mlogprobs\u001b[39;49m\u001b[33;43m\"\u001b[39;49m\u001b[43m:\u001b[49m\u001b[43m \u001b[49m\u001b[43mlogprobs\u001b[49m\u001b[43m,\u001b[49m\n\u001b[32m    937\u001b[39m \u001b[43m                \u001b[49m\u001b[33;43m\"\u001b[39;49m\u001b[33;43mmax_completion_tokens\u001b[39;49m\u001b[33;43m\"\u001b[39;49m\u001b[43m:\u001b[49m\u001b[43m \u001b[49m\u001b[43mmax_completion_tokens\u001b[49m\u001b[43m,\u001b[49m\n\u001b[32m    938\u001b[39m \u001b[43m                \u001b[49m\u001b[33;43m\"\u001b[39;49m\u001b[33;43mmax_tokens\u001b[39;49m\u001b[33;43m\"\u001b[39;49m\u001b[43m:\u001b[49m\u001b[43m \u001b[49m\u001b[43mmax_tokens\u001b[49m\u001b[43m,\u001b[49m\n\u001b[32m    939\u001b[39m \u001b[43m                \u001b[49m\u001b[33;43m\"\u001b[39;49m\u001b[33;43mmetadata\u001b[39;49m\u001b[33;43m\"\u001b[39;49m\u001b[43m:\u001b[49m\u001b[43m \u001b[49m\u001b[43mmetadata\u001b[49m\u001b[43m,\u001b[49m\n\u001b[32m    940\u001b[39m \u001b[43m                \u001b[49m\u001b[33;43m\"\u001b[39;49m\u001b[33;43mmodalities\u001b[39;49m\u001b[33;43m\"\u001b[39;49m\u001b[43m:\u001b[49m\u001b[43m \u001b[49m\u001b[43mmodalities\u001b[49m\u001b[43m,\u001b[49m\n\u001b[32m    941\u001b[39m \u001b[43m                \u001b[49m\u001b[33;43m\"\u001b[39;49m\u001b[33;43mn\u001b[39;49m\u001b[33;43m\"\u001b[39;49m\u001b[43m:\u001b[49m\u001b[43m \u001b[49m\u001b[43mn\u001b[49m\u001b[43m,\u001b[49m\n\u001b[32m    942\u001b[39m \u001b[43m                \u001b[49m\u001b[33;43m\"\u001b[39;49m\u001b[33;43mparallel_tool_calls\u001b[39;49m\u001b[33;43m\"\u001b[39;49m\u001b[43m:\u001b[49m\u001b[43m \u001b[49m\u001b[43mparallel_tool_calls\u001b[49m\u001b[43m,\u001b[49m\n\u001b[32m    943\u001b[39m \u001b[43m                \u001b[49m\u001b[33;43m\"\u001b[39;49m\u001b[33;43mprediction\u001b[39;49m\u001b[33;43m\"\u001b[39;49m\u001b[43m:\u001b[49m\u001b[43m \u001b[49m\u001b[43mprediction\u001b[49m\u001b[43m,\u001b[49m\n\u001b[32m    944\u001b[39m \u001b[43m                \u001b[49m\u001b[33;43m\"\u001b[39;49m\u001b[33;43mpresence_penalty\u001b[39;49m\u001b[33;43m\"\u001b[39;49m\u001b[43m:\u001b[49m\u001b[43m \u001b[49m\u001b[43mpresence_penalty\u001b[49m\u001b[43m,\u001b[49m\n\u001b[32m    945\u001b[39m \u001b[43m                \u001b[49m\u001b[33;43m\"\u001b[39;49m\u001b[33;43mreasoning_effort\u001b[39;49m\u001b[33;43m\"\u001b[39;49m\u001b[43m:\u001b[49m\u001b[43m \u001b[49m\u001b[43mreasoning_effort\u001b[49m\u001b[43m,\u001b[49m\n\u001b[32m    946\u001b[39m \u001b[43m                \u001b[49m\u001b[33;43m\"\u001b[39;49m\u001b[33;43mresponse_format\u001b[39;49m\u001b[33;43m\"\u001b[39;49m\u001b[43m:\u001b[49m\u001b[43m \u001b[49m\u001b[43mresponse_format\u001b[49m\u001b[43m,\u001b[49m\n\u001b[32m    947\u001b[39m \u001b[43m                \u001b[49m\u001b[33;43m\"\u001b[39;49m\u001b[33;43mseed\u001b[39;49m\u001b[33;43m\"\u001b[39;49m\u001b[43m:\u001b[49m\u001b[43m \u001b[49m\u001b[43mseed\u001b[49m\u001b[43m,\u001b[49m\n\u001b[32m    948\u001b[39m \u001b[43m                \u001b[49m\u001b[33;43m\"\u001b[39;49m\u001b[33;43mservice_tier\u001b[39;49m\u001b[33;43m\"\u001b[39;49m\u001b[43m:\u001b[49m\u001b[43m \u001b[49m\u001b[43mservice_tier\u001b[49m\u001b[43m,\u001b[49m\n\u001b[32m    949\u001b[39m \u001b[43m                \u001b[49m\u001b[33;43m\"\u001b[39;49m\u001b[33;43mstop\u001b[39;49m\u001b[33;43m\"\u001b[39;49m\u001b[43m:\u001b[49m\u001b[43m \u001b[49m\u001b[43mstop\u001b[49m\u001b[43m,\u001b[49m\n\u001b[32m    950\u001b[39m \u001b[43m                \u001b[49m\u001b[33;43m\"\u001b[39;49m\u001b[33;43mstore\u001b[39;49m\u001b[33;43m\"\u001b[39;49m\u001b[43m:\u001b[49m\u001b[43m \u001b[49m\u001b[43mstore\u001b[49m\u001b[43m,\u001b[49m\n\u001b[32m    951\u001b[39m \u001b[43m                \u001b[49m\u001b[33;43m\"\u001b[39;49m\u001b[33;43mstream\u001b[39;49m\u001b[33;43m\"\u001b[39;49m\u001b[43m:\u001b[49m\u001b[43m \u001b[49m\u001b[43mstream\u001b[49m\u001b[43m,\u001b[49m\n\u001b[32m    952\u001b[39m \u001b[43m                \u001b[49m\u001b[33;43m\"\u001b[39;49m\u001b[33;43mstream_options\u001b[39;49m\u001b[33;43m\"\u001b[39;49m\u001b[43m:\u001b[49m\u001b[43m \u001b[49m\u001b[43mstream_options\u001b[49m\u001b[43m,\u001b[49m\n\u001b[32m    953\u001b[39m \u001b[43m                \u001b[49m\u001b[33;43m\"\u001b[39;49m\u001b[33;43mtemperature\u001b[39;49m\u001b[33;43m\"\u001b[39;49m\u001b[43m:\u001b[49m\u001b[43m \u001b[49m\u001b[43mtemperature\u001b[49m\u001b[43m,\u001b[49m\n\u001b[32m    954\u001b[39m \u001b[43m                \u001b[49m\u001b[33;43m\"\u001b[39;49m\u001b[33;43mtool_choice\u001b[39;49m\u001b[33;43m\"\u001b[39;49m\u001b[43m:\u001b[49m\u001b[43m \u001b[49m\u001b[43mtool_choice\u001b[49m\u001b[43m,\u001b[49m\n\u001b[32m    955\u001b[39m \u001b[43m                \u001b[49m\u001b[33;43m\"\u001b[39;49m\u001b[33;43mtools\u001b[39;49m\u001b[33;43m\"\u001b[39;49m\u001b[43m:\u001b[49m\u001b[43m \u001b[49m\u001b[43mtools\u001b[49m\u001b[43m,\u001b[49m\n\u001b[32m    956\u001b[39m \u001b[43m                \u001b[49m\u001b[33;43m\"\u001b[39;49m\u001b[33;43mtop_logprobs\u001b[39;49m\u001b[33;43m\"\u001b[39;49m\u001b[43m:\u001b[49m\u001b[43m \u001b[49m\u001b[43mtop_logprobs\u001b[49m\u001b[43m,\u001b[49m\n\u001b[32m    957\u001b[39m \u001b[43m                \u001b[49m\u001b[33;43m\"\u001b[39;49m\u001b[33;43mtop_p\u001b[39;49m\u001b[33;43m\"\u001b[39;49m\u001b[43m:\u001b[49m\u001b[43m \u001b[49m\u001b[43mtop_p\u001b[49m\u001b[43m,\u001b[49m\n\u001b[32m    958\u001b[39m \u001b[43m                \u001b[49m\u001b[33;43m\"\u001b[39;49m\u001b[33;43muser\u001b[39;49m\u001b[33;43m\"\u001b[39;49m\u001b[43m:\u001b[49m\u001b[43m \u001b[49m\u001b[43muser\u001b[49m\u001b[43m,\u001b[49m\n\u001b[32m    959\u001b[39m \u001b[43m                \u001b[49m\u001b[33;43m\"\u001b[39;49m\u001b[33;43mweb_search_options\u001b[39;49m\u001b[33;43m\"\u001b[39;49m\u001b[43m:\u001b[49m\u001b[43m \u001b[49m\u001b[43mweb_search_options\u001b[49m\u001b[43m,\u001b[49m\n\u001b[32m    960\u001b[39m \u001b[43m            \u001b[49m\u001b[43m}\u001b[49m\u001b[43m,\u001b[49m\n\u001b[32m    961\u001b[39m \u001b[43m            \u001b[49m\u001b[43mcompletion_create_params\u001b[49m\u001b[43m.\u001b[49m\u001b[43mCompletionCreateParamsStreaming\u001b[49m\n\u001b[32m    962\u001b[39m \u001b[43m            \u001b[49m\u001b[38;5;28;43;01mif\u001b[39;49;00m\u001b[43m \u001b[49m\u001b[43mstream\u001b[49m\n\u001b[32m    963\u001b[39m \u001b[43m            \u001b[49m\u001b[38;5;28;43;01melse\u001b[39;49;00m\u001b[43m \u001b[49m\u001b[43mcompletion_create_params\u001b[49m\u001b[43m.\u001b[49m\u001b[43mCompletionCreateParamsNonStreaming\u001b[49m\u001b[43m,\u001b[49m\n\u001b[32m    964\u001b[39m \u001b[43m        \u001b[49m\u001b[43m)\u001b[49m\u001b[43m,\u001b[49m\n\u001b[32m    965\u001b[39m \u001b[43m        \u001b[49m\u001b[43moptions\u001b[49m\u001b[43m=\u001b[49m\u001b[43mmake_request_options\u001b[49m\u001b[43m(\u001b[49m\n\u001b[32m    966\u001b[39m \u001b[43m            \u001b[49m\u001b[43mextra_headers\u001b[49m\u001b[43m=\u001b[49m\u001b[43mextra_headers\u001b[49m\u001b[43m,\u001b[49m\u001b[43m \u001b[49m\u001b[43mextra_query\u001b[49m\u001b[43m=\u001b[49m\u001b[43mextra_query\u001b[49m\u001b[43m,\u001b[49m\u001b[43m \u001b[49m\u001b[43mextra_body\u001b[49m\u001b[43m=\u001b[49m\u001b[43mextra_body\u001b[49m\u001b[43m,\u001b[49m\u001b[43m \u001b[49m\u001b[43mtimeout\u001b[49m\u001b[43m=\u001b[49m\u001b[43mtimeout\u001b[49m\n\u001b[32m    967\u001b[39m \u001b[43m        \u001b[49m\u001b[43m)\u001b[49m\u001b[43m,\u001b[49m\n\u001b[32m    968\u001b[39m \u001b[43m        \u001b[49m\u001b[43mcast_to\u001b[49m\u001b[43m=\u001b[49m\u001b[43mChatCompletion\u001b[49m\u001b[43m,\u001b[49m\n\u001b[32m    969\u001b[39m \u001b[43m        \u001b[49m\u001b[43mstream\u001b[49m\u001b[43m=\u001b[49m\u001b[43mstream\u001b[49m\u001b[43m \u001b[49m\u001b[38;5;129;43;01mor\u001b[39;49;00m\u001b[43m \u001b[49m\u001b[38;5;28;43;01mFalse\u001b[39;49;00m\u001b[43m,\u001b[49m\n\u001b[32m    970\u001b[39m \u001b[43m        \u001b[49m\u001b[43mstream_cls\u001b[49m\u001b[43m=\u001b[49m\u001b[43mStream\u001b[49m\u001b[43m[\u001b[49m\u001b[43mChatCompletionChunk\u001b[49m\u001b[43m]\u001b[49m\u001b[43m,\u001b[49m\n\u001b[32m    971\u001b[39m \u001b[43m    \u001b[49m\u001b[43m)\u001b[49m\n",
      "\u001b[36mFile \u001b[39m\u001b[32m~/.local/share/virtualenvs/smart_query_assistant-PYJH9x9M/lib/python3.11/site-packages/openai/_base_client.py:1239\u001b[39m, in \u001b[36mSyncAPIClient.post\u001b[39m\u001b[34m(self, path, cast_to, body, options, files, stream, stream_cls)\u001b[39m\n\u001b[32m   1225\u001b[39m \u001b[38;5;28;01mdef\u001b[39;00m\u001b[38;5;250m \u001b[39m\u001b[34mpost\u001b[39m(\n\u001b[32m   1226\u001b[39m     \u001b[38;5;28mself\u001b[39m,\n\u001b[32m   1227\u001b[39m     path: \u001b[38;5;28mstr\u001b[39m,\n\u001b[32m   (...)\u001b[39m\u001b[32m   1234\u001b[39m     stream_cls: \u001b[38;5;28mtype\u001b[39m[_StreamT] | \u001b[38;5;28;01mNone\u001b[39;00m = \u001b[38;5;28;01mNone\u001b[39;00m,\n\u001b[32m   1235\u001b[39m ) -> ResponseT | _StreamT:\n\u001b[32m   1236\u001b[39m     opts = FinalRequestOptions.construct(\n\u001b[32m   1237\u001b[39m         method=\u001b[33m\"\u001b[39m\u001b[33mpost\u001b[39m\u001b[33m\"\u001b[39m, url=path, json_data=body, files=to_httpx_files(files), **options\n\u001b[32m   1238\u001b[39m     )\n\u001b[32m-> \u001b[39m\u001b[32m1239\u001b[39m     \u001b[38;5;28;01mreturn\u001b[39;00m cast(ResponseT, \u001b[38;5;28;43mself\u001b[39;49m\u001b[43m.\u001b[49m\u001b[43mrequest\u001b[49m\u001b[43m(\u001b[49m\u001b[43mcast_to\u001b[49m\u001b[43m,\u001b[49m\u001b[43m \u001b[49m\u001b[43mopts\u001b[49m\u001b[43m,\u001b[49m\u001b[43m \u001b[49m\u001b[43mstream\u001b[49m\u001b[43m=\u001b[49m\u001b[43mstream\u001b[49m\u001b[43m,\u001b[49m\u001b[43m \u001b[49m\u001b[43mstream_cls\u001b[49m\u001b[43m=\u001b[49m\u001b[43mstream_cls\u001b[49m\u001b[43m)\u001b[49m)\n",
      "\u001b[36mFile \u001b[39m\u001b[32m~/.local/share/virtualenvs/smart_query_assistant-PYJH9x9M/lib/python3.11/site-packages/openai/_base_client.py:1034\u001b[39m, in \u001b[36mSyncAPIClient.request\u001b[39m\u001b[34m(self, cast_to, options, stream, stream_cls)\u001b[39m\n\u001b[32m   1031\u001b[39m             err.response.read()\n\u001b[32m   1033\u001b[39m         log.debug(\u001b[33m\"\u001b[39m\u001b[33mRe-raising status error\u001b[39m\u001b[33m\"\u001b[39m)\n\u001b[32m-> \u001b[39m\u001b[32m1034\u001b[39m         \u001b[38;5;28;01mraise\u001b[39;00m \u001b[38;5;28mself\u001b[39m._make_status_error_from_response(err.response) \u001b[38;5;28;01mfrom\u001b[39;00m\u001b[38;5;250m \u001b[39m\u001b[38;5;28;01mNone\u001b[39;00m\n\u001b[32m   1036\u001b[39m     \u001b[38;5;28;01mbreak\u001b[39;00m\n\u001b[32m   1038\u001b[39m \u001b[38;5;28;01massert\u001b[39;00m response \u001b[38;5;129;01mis\u001b[39;00m \u001b[38;5;129;01mnot\u001b[39;00m \u001b[38;5;28;01mNone\u001b[39;00m, \u001b[33m\"\u001b[39m\u001b[33mcould not resolve response (should never happen)\u001b[39m\u001b[33m\"\u001b[39m\n",
      "\u001b[31mRateLimitError\u001b[39m: Error code: 429 - {'error': {'message': 'You exceeded your current quota, please check your plan and billing details. For more information on this error, read the docs: https://platform.openai.com/docs/guides/error-codes/api-errors.', 'type': 'insufficient_quota', 'param': None, 'code': 'insufficient_quota'}}"
     ]
    }
   ],
   "source": [
    "print(\"\\nGetting recommendations from LLM...\")\n",
    "recommendations = get_query_recommendations(vq, user_question, context, llm_service)\n",
    "\n",
    "print(\"\\nRecommendations:\\n\")\n",
    "print(f\"Modifications needed: {recommendations.get('modifications_needed', False)}\")\n",
    "print(\"\\nExplanation:\", recommendations.get('explanation', 'No explanation provided'))\n",
    "\n",
    "if recommendations.get('modifications'):\n",
    "    print(\"\\nRecommended modifications:\")\n",
    "    for i, mod in enumerate(recommendations['modifications']):\n",
    "        print(f\"  {i+1}. Type: {mod.get('type')}\")\n",
    "        print(f\"     Description: {mod.get('description')}\")\n",
    "        print(f\"     SQL Impact: {mod.get('sql_impact')}\")"
   ]
  },
  {
   "cell_type": "code",
   "execution_count": 38,
   "metadata": {},
   "outputs": [
    {
     "ename": "NameError",
     "evalue": "name 'modify_query' is not defined",
     "output_type": "error",
     "traceback": [
      "\u001b[31m---------------------------------------------------------------------------\u001b[39m",
      "\u001b[31mNameError\u001b[39m                                 Traceback (most recent call last)",
      "\u001b[36mCell\u001b[39m\u001b[36m \u001b[39m\u001b[32mIn[38]\u001b[39m\u001b[32m, line 1\u001b[39m\n\u001b[32m----> \u001b[39m\u001b[32m1\u001b[39m modsql = \u001b[43mmodify_query\u001b[49m(vq.sql, recommendations[\u001b[33m'\u001b[39m\u001b[33mmodifications\u001b[39m\u001b[33m'\u001b[39m], llm_service)\n\u001b[32m      2\u001b[39m \u001b[38;5;28mprint\u001b[39m(modsql)\n",
      "\u001b[31mNameError\u001b[39m: name 'modify_query' is not defined"
     ]
    }
   ],
   "source": [
    "modsql = modify_query(vq.sql, recommendations['modifications'], llm_service)\n",
    "print(modsql)"
   ]
  },
  {
   "cell_type": "code",
   "execution_count": 8,
   "metadata": {},
   "outputs": [
    {
     "name": "stderr",
     "output_type": "stream",
     "text": [
      "2025-04-30 13:56:45,413 - __main__ - INFO - Adjusting SQL query\n",
      "2025-04-30 13:56:45,414 - anthropic._base_client - DEBUG - Request options: {'method': 'post', 'url': '/v1/messages', 'timeout': Timeout(connect=5.0, read=600, write=600, pool=600), 'files': None, 'idempotency_key': 'stainless-python-retry-c4b1aaf6-ad5b-46b6-8e3d-22ba6ca388e0', 'json_data': {'max_tokens': 2000, 'messages': [{'role': 'user', 'content': 'Original SQL:\\n        SELECT \\n  a.agency_id,\\n  a.agency_name,\\n  a.region,\\n  a.tier,\\n  COUNT(p.policy_id) AS policy_count,\\n  SUM(p.premium_amount) AS total_premium,\\n  AVG(p.premium_amount) AS avg_premium\\nFROM \\n  agencies a\\n  JOIN agents ag ON a.agency_id = ag.agency_id\\n  JOIN policies p ON ag.agent_id = p.agent_id\\nWHERE \\n  p.status = \\'active\\' -- active, lapsed, cancelled\\nGROUP BY \\n  a.agency_id, a.agency_name, a.region, a.tier\\nORDER BY \\n  total_premium DESC\\nLIMIT 10;\\n\\n        Modification instructions:\\n        [{\\'type\\': \\'filter\\', \\'description\\': \"Filter policies to only include those with \\'active\\' status\", \\'sql_impact\\': \"Modify the WHERE clause to filter policies with status = \\'active\\'\"}, {\\'type\\': \\'filter\\', \\'description\\': \\'Filter agencies to only include those in the Northeast region\\', \\'sql_impact\\': \"Add a WHERE clause condition to filter agencies with region = \\'Northeast\\'\"}, {\\'type\\': \\'filter\\', \\'description\\': \\'Filter policies to only include those from the current quarter (2025 Q2)\\', \\'sql_impact\\': \"Add a WHERE clause condition to filter policies with start_date between \\'2025-04-01\\' and \\'2025-06-30\\'\"}, {\\'type\\': \\'column\\', \\'description\\': \\'Remove unnecessary columns from the SELECT and GROUP BY clauses\\', \\'sql_impact\\': \\'Remove a.region, a.tier from the SELECT and GROUP BY clauses\\'}, {\\'type\\': \\'sorting\\', \\'description\\': \\'Sort the results by total_premium in descending order\\', \\'sql_impact\\': \\'Modify the ORDER BY clause to sort by total_premium DESC\\'}, {\\'type\\': \\'limit\\', \\'description\\': \\'Limit the results to the top 10 agencies\\', \\'sql_impact\\': \\'Keep the LIMIT 10 clause\\'}]\\n\\n        Column Alias Guidelines:\\n        - Change only if necessary\\n        - Match the verb from user\\'s question\\n        - Keep prefixes if present\\n        - Maintain quote style and capitalization\\n\\n        Return only the modified SQL query. Do NOT include any other text or explanations.\\n        '}], 'model': 'claude-3-haiku-20240307', 'system': 'You are an expert SQL developer for PostgreSQL. Your task is to analyze and modify SQL based on specific requirements. Your response will be a valid SQL query.', 'temperature': 0}}\n",
      "2025-04-30 13:56:45,415 - anthropic._base_client - DEBUG - Sending HTTP Request: POST https://api.anthropic.com/v1/messages\n",
      "2025-04-30 13:56:45,415 - httpcore.connection - DEBUG - close.started\n",
      "2025-04-30 13:56:45,416 - httpcore.connection - DEBUG - close.complete\n",
      "2025-04-30 13:56:45,416 - httpcore.connection - DEBUG - connect_tcp.started host='api.anthropic.com' port=443 local_address=None timeout=5.0 socket_options=[(65535, 8, True), (6, 257, 60), (6, 258, 5)]\n",
      "2025-04-30 13:56:45,432 - httpcore.connection - DEBUG - connect_tcp.complete return_value=<httpcore._backends.sync.SyncStream object at 0x32256cb10>\n",
      "2025-04-30 13:56:45,432 - httpcore.connection - DEBUG - start_tls.started ssl_context=<ssl.SSLContext object at 0x3125ec560> server_hostname='api.anthropic.com' timeout=5.0\n",
      "2025-04-30 13:56:45,450 - httpcore.connection - DEBUG - start_tls.complete return_value=<httpcore._backends.sync.SyncStream object at 0x322575990>\n",
      "2025-04-30 13:56:45,451 - httpcore.http11 - DEBUG - send_request_headers.started request=<Request [b'POST']>\n",
      "2025-04-30 13:56:45,451 - httpcore.http11 - DEBUG - send_request_headers.complete\n",
      "2025-04-30 13:56:45,451 - httpcore.http11 - DEBUG - send_request_body.started request=<Request [b'POST']>\n",
      "2025-04-30 13:56:45,452 - httpcore.http11 - DEBUG - send_request_body.complete\n",
      "2025-04-30 13:56:45,452 - httpcore.http11 - DEBUG - receive_response_headers.started request=<Request [b'POST']>\n",
      "2025-04-30 13:56:47,248 - httpcore.http11 - DEBUG - receive_response_headers.complete return_value=(b'HTTP/1.1', 200, b'OK', [(b'Date', b'Wed, 30 Apr 2025 18:56:47 GMT'), (b'Content-Type', b'application/json'), (b'Transfer-Encoding', b'chunked'), (b'Connection', b'keep-alive'), (b'anthropic-ratelimit-input-tokens-limit', b'50000'), (b'anthropic-ratelimit-input-tokens-remaining', b'50000'), (b'anthropic-ratelimit-input-tokens-reset', b'2025-04-30T18:56:46Z'), (b'anthropic-ratelimit-output-tokens-limit', b'10000'), (b'anthropic-ratelimit-output-tokens-remaining', b'10000'), (b'anthropic-ratelimit-output-tokens-reset', b'2025-04-30T18:56:47Z'), (b'anthropic-ratelimit-requests-limit', b'50'), (b'anthropic-ratelimit-requests-remaining', b'49'), (b'anthropic-ratelimit-requests-reset', b'2025-04-30T18:56:46Z'), (b'anthropic-ratelimit-tokens-limit', b'60000'), (b'anthropic-ratelimit-tokens-remaining', b'60000'), (b'anthropic-ratelimit-tokens-reset', b'2025-04-30T18:56:46Z'), (b'request-id', b'req_011CNfRkco4ZLndStgx96vmv'), (b'anthropic-organization-id', b'23fe48df-acf6-4bd8-91d1-68b1891dc7a2'), (b'via', b'1.1 google'), (b'cf-cache-status', b'DYNAMIC'), (b'X-Robots-Tag', b'none'), (b'Server', b'cloudflare'), (b'CF-RAY', b'938942ccbf596077-ORD'), (b'Content-Encoding', b'gzip')])\n",
      "2025-04-30 13:56:47,249 - httpx - INFO - HTTP Request: POST https://api.anthropic.com/v1/messages \"HTTP/1.1 200 OK\"\n",
      "2025-04-30 13:56:47,249 - httpcore.http11 - DEBUG - receive_response_body.started request=<Request [b'POST']>\n",
      "2025-04-30 13:56:47,250 - httpcore.http11 - DEBUG - receive_response_body.complete\n",
      "2025-04-30 13:56:47,250 - httpcore.http11 - DEBUG - response_closed.started\n",
      "2025-04-30 13:56:47,251 - httpcore.http11 - DEBUG - response_closed.complete\n",
      "2025-04-30 13:56:47,251 - anthropic._base_client - DEBUG - HTTP Response: POST https://api.anthropic.com/v1/messages \"200 OK\" Headers({'date': 'Wed, 30 Apr 2025 18:56:47 GMT', 'content-type': 'application/json', 'transfer-encoding': 'chunked', 'connection': 'keep-alive', 'anthropic-ratelimit-input-tokens-limit': '50000', 'anthropic-ratelimit-input-tokens-remaining': '50000', 'anthropic-ratelimit-input-tokens-reset': '2025-04-30T18:56:46Z', 'anthropic-ratelimit-output-tokens-limit': '10000', 'anthropic-ratelimit-output-tokens-remaining': '10000', 'anthropic-ratelimit-output-tokens-reset': '2025-04-30T18:56:47Z', 'anthropic-ratelimit-requests-limit': '50', 'anthropic-ratelimit-requests-remaining': '49', 'anthropic-ratelimit-requests-reset': '2025-04-30T18:56:46Z', 'anthropic-ratelimit-tokens-limit': '60000', 'anthropic-ratelimit-tokens-remaining': '60000', 'anthropic-ratelimit-tokens-reset': '2025-04-30T18:56:46Z', 'request-id': 'req_011CNfRkco4ZLndStgx96vmv', 'anthropic-organization-id': '23fe48df-acf6-4bd8-91d1-68b1891dc7a2', 'via': '1.1 google', 'cf-cache-status': 'DYNAMIC', 'x-robots-tag': 'none', 'server': 'cloudflare', 'cf-ray': '938942ccbf596077-ORD', 'content-encoding': 'gzip'})\n",
      "2025-04-30 13:56:47,251 - anthropic._base_client - DEBUG - request_id: req_011CNfRkco4ZLndStgx96vmv\n"
     ]
    },
    {
     "name": "stdout",
     "output_type": "stream",
     "text": [
      "\n",
      "Modified SQL:\n",
      "SELECT \n",
      "  a.agency_id,\n",
      "  a.agency_name,\n",
      "  COUNT(p.policy_id) AS policy_count,\n",
      "  SUM(p.premium_amount) AS total_premium,\n",
      "  AVG(p.premium_amount) AS avg_premium\n",
      "FROM \n",
      "  agencies a\n",
      "  JOIN agents ag ON a.agency_id = ag.agency_id\n",
      "  JOIN policies p ON ag.agent_id = p.agent_id\n",
      "WHERE \n",
      "  p.status = 'active'\n",
      "  AND a.region = 'Northeast'\n",
      "  AND p.start_date BETWEEN '2025-04-01' AND '2025-06-30'\n",
      "GROUP BY \n",
      "  a.agency_id, a.agency_name\n",
      "ORDER BY \n",
      "  total_premium DESC\n",
      "LIMIT 10;\n"
     ]
    }
   ],
   "source": [
    "system_prompt = \"\"\"You are an expert SQL developer for PostgreSQL. Your task is to analyze and modify SQL based on specific requirements. Your response will be a valid SQL query.\"\"\"\n",
    "\n",
    "# User prompt with original SQL and modifications\n",
    "user_prompt = f\"\"\"Original SQL:\n",
    "        {vq.sql}\n",
    "\n",
    "        Modification instructions:\n",
    "        {recommendations['modifications']}\n",
    "\n",
    "        Column Alias Guidelines:\n",
    "        - Change only if necessary\n",
    "        - Match the verb from user's question\n",
    "        - Keep prefixes if present\n",
    "        - Maintain quote style and capitalization\n",
    "\n",
    "        Return only the modified SQL query. Do NOT include any other text or explanations.\n",
    "        \"\"\"\n",
    "\n",
    "try:\n",
    "    logger.info(\"Adjusting SQL query\")\n",
    "    \n",
    "    # Get modified SQL from LLM\n",
    "    modified_sql = llm_service.generate_text(\n",
    "        prompt=user_prompt,\n",
    "        system_prompt=system_prompt,\n",
    "        temperature=0\n",
    "    )\n",
    "    \n",
    "    modsql = modified_sql.strip()\n",
    "\n",
    "    print(\"\\nModified SQL:\")\n",
    "    print(modsql)\n",
    "\n",
    "except Exception as e:\n",
    "    print(\"Error generating modified SQL:\", e)"
   ]
  },
  {
   "cell_type": "code",
   "execution_count": null,
   "metadata": {},
   "outputs": [
    {
     "data": {
      "application/vnd.microsoft.datawrangler.viewer.v0+json": {
       "columns": [
        {
         "name": "index",
         "rawType": "int64",
         "type": "integer"
        },
        {
         "name": "agency_id",
         "rawType": "int64",
         "type": "integer"
        },
        {
         "name": "agency_name",
         "rawType": "object",
         "type": "string"
        },
        {
         "name": "policy_count",
         "rawType": "int64",
         "type": "integer"
        },
        {
         "name": "total_premium",
         "rawType": "object",
         "type": "unknown"
        },
        {
         "name": "avg_premium",
         "rawType": "object",
         "type": "unknown"
        }
       ],
       "conversionMethod": "pd.DataFrame",
       "ref": "c64b3e60-c375-466c-920d-ccfc4ee1e9cc",
       "rows": [
        [
         "0",
         "7",
         "Capital Benefits Agency",
         "1",
         "1500.00",
         "1500.0000000000000000"
        ]
       ],
       "shape": {
        "columns": 5,
        "rows": 1
       }
      },
      "text/html": [
       "<div>\n",
       "<style scoped>\n",
       "    .dataframe tbody tr th:only-of-type {\n",
       "        vertical-align: middle;\n",
       "    }\n",
       "\n",
       "    .dataframe tbody tr th {\n",
       "        vertical-align: top;\n",
       "    }\n",
       "\n",
       "    .dataframe thead th {\n",
       "        text-align: right;\n",
       "    }\n",
       "</style>\n",
       "<table border=\"1\" class=\"dataframe\">\n",
       "  <thead>\n",
       "    <tr style=\"text-align: right;\">\n",
       "      <th></th>\n",
       "      <th>agency_id</th>\n",
       "      <th>agency_name</th>\n",
       "      <th>policy_count</th>\n",
       "      <th>total_premium</th>\n",
       "      <th>avg_premium</th>\n",
       "    </tr>\n",
       "  </thead>\n",
       "  <tbody>\n",
       "    <tr>\n",
       "      <th>0</th>\n",
       "      <td>7</td>\n",
       "      <td>Capital Benefits Agency</td>\n",
       "      <td>1</td>\n",
       "      <td>1500.00</td>\n",
       "      <td>1500.0000000000000000</td>\n",
       "    </tr>\n",
       "  </tbody>\n",
       "</table>\n",
       "</div>"
      ],
      "text/plain": [
       "   agency_id              agency_name  policy_count total_premium  \\\n",
       "0          7  Capital Benefits Agency             1       1500.00   \n",
       "\n",
       "             avg_premium  \n",
       "0  1500.0000000000000000  "
      ]
     },
     "execution_count": 36,
     "metadata": {},
     "output_type": "execute_result"
    }
   ],
   "source": [
    "# Execute modified SQL \n",
    "with Session(insurance_db_engine) as db:\n",
    "        # Run the query \n",
    "        try:\n",
    "            result = db.execute(text(modsql))\n",
    "            rows = result.fetchall()\n",
    "            columns = result.keys()\n",
    "            data = [dict(zip(columns, r)) for r in rows]\n",
    "            # Convert to DataFrame for better visualization\n",
    "            df_data = pd.DataFrame(data)\n",
    "        except Exception as e:\n",
    "            print(\"Error executing query:\", e)     \n",
    "df_data           "
   ]
  },
  {
   "cell_type": "code",
   "execution_count": null,
   "metadata": {},
   "outputs": [],
   "source": []
  },
  {
   "cell_type": "code",
   "execution_count": null,
   "metadata": {},
   "outputs": [],
   "source": []
  },
  {
   "cell_type": "code",
   "execution_count": null,
   "metadata": {},
   "outputs": [
    {
     "name": "stdout",
     "output_type": "stream",
     "text": [
      "Available queries in database:\n"
     ]
    },
    {
     "data": {
      "application/vnd.microsoft.datawrangler.viewer.v0+json": {
       "columns": [
        {
         "name": "index",
         "rawType": "int64",
         "type": "integer"
        },
        {
         "name": "id",
         "rawType": "object",
         "type": "string"
        },
        {
         "name": "name",
         "rawType": "object",
         "type": "string"
        },
        {
         "name": "query_explanation",
         "rawType": "object",
         "type": "string"
        },
        {
         "name": "sql",
         "rawType": "object",
         "type": "string"
        },
        {
         "name": "instructions",
         "rawType": "object",
         "type": "string"
        },
        {
         "name": "tables_used",
         "rawType": "object",
         "type": "unknown"
        },
        {
         "name": "verified_at",
         "rawType": "datetime64[ns]",
         "type": "datetime"
        },
        {
         "name": "verified_by",
         "rawType": "object",
         "type": "string"
        }
       ],
       "conversionMethod": "pd.DataFrame",
       "ref": "e011e75d-0938-451a-9d85-6cb658cc02ac",
       "rows": [
        [
         "0",
         "vq_top_agencies_premium",
         "Top Performing Agencies by Premium",
         "This query calculates the total premium amount generated by each agency.  It joins the agencies, agents, and policies tables to aggregate premium amounts for active policies, then sorts them by total premium in descending order and limits result to 10 records.\n",
         "SELECT \n  a.agency_id,\n  a.agency_name,\n  a.region,\n  a.tier,\n  COUNT(p.policy_id) AS policy_count,\n  SUM(p.premium_amount) AS total_premium,\n  AVG(p.premium_amount) AS avg_premium\nFROM \n  agencies a\n  JOIN agents ag ON a.agency_id = ag.agency_id\n  JOIN policies p ON ag.agent_id = p.agent_id\nWHERE \n  p.status = 'active' -- active, lapsed, cancelled\nGROUP BY \n  a.agency_id, a.agency_name, a.region, a.tier\nORDER BY \n  total_premium DESC\nLIMIT 10;",
         "Modification guidelines: 1. Filter conditions:\n    - Policy status: Can be modified to 'active', 'lapsed', or 'cancelled' using values from comments\n    - Region filter: Can be added as \"AND a.region = '[region]'\" to filter by specific region - West, Midwest, Northeast and Southeast\n    - Tier filter: Can be added as \"AND a.tier = '[tier]'\" to filter by agency tier - Gold, Silver, Bronze, Platinum\n    \n2. Time period:\n    - For specific time periods, add \"AND p.start_date BETWEEN '[start_date]' AND '[end_date]'\"\n    - Use ISO format dates (YYYY-MM-DD)\n    \n3. Field selection:\n    - Fields a.agency_id and a.agency_name must always be included in SELECT and GROUP BY\n    - Fields a.region, a.city, a.state and a.tier can be removed for general result\n    - Additional fields from agencies table can be added if available (city, state, establishment_date)\n    \n4. GROUP BY modifications:\n    - Any field added to or removed from SELECT should be correspondingly added to or removed from GROUP BY\n    - Exception: Aggregate functions (SUM, COUNT, AVG) should not be in GROUP BY\n    \n5. Result limiting:\n    - LIMIT clause can be adjusted or removed based on needs\n",
         "['agencies', 'agents', 'policies']",
         "2025-04-15 10:00:00",
         "data_analyst"
        ],
        [
         "1",
         "vq_distribution_channel_performance",
         "Distribution Channel Performance Analysis",
         "This query analyzes the performance of different distribution channels by measuring total premium, policy count,  and average premium per policy for each channel. Only active policies are included, and the results are ordered by total premium.\n",
         "SELECT \n  dc.channel_id,\n  dc.channel_name,\n  dc.channel_type,\n  COUNT(p.policy_id) AS policy_count,\n  SUM(p.premium_amount) AS total_premium,\n  AVG(p.premium_amount) AS avg_premium_per_policy,\n  SUM(p.premium_amount * dc.commission_rate / 100) AS estimated_commission\nFROM \n  distribution_channels dc\n  JOIN policies p ON dc.channel_id = p.channel_id\nWHERE \n  p.status = 'active' -- active, lapsed, cancelled\nGROUP BY \n  dc.channel_id, dc.channel_name, dc.channel_type\nORDER BY \n  total_premium DESC;",
         "Modification guidelines: 1. Filter conditions:\n    - Policy status: Can be modified to 'active', 'lapsed', or 'cancelled' using values from comments\n    - Channel type filter: Can be added as \"AND dc.channel_type = '[type]'\" to filter by specific channel types\n    \n2. Time period:\n    - For specific time periods, add \"AND p.start_date BETWEEN '[start_date]' AND '[end_date]'\"\n    - Use ISO format dates (YYYY-MM-DD)\n    \n3. Field selection:\n    - Fields dc.channel_id, dc.channel_name, and dc.channel_type must always be included in SELECT and GROUP BY\n    - Commission-related calculations can be removed if not needed\n    \n4. GROUP BY modifications:\n    - Any field added to or removed from SELECT should be correspondingly added to or removed from GROUP BY\n    - Exception: Aggregate functions (SUM, COUNT, AVG) should not be in GROUP BY\n    \n5. Analysis options:\n    - To focus on commission metrics, include commission_rate and estimated_commission fields\n    - To analyze growth, add a date grouping by adding p.start_date (by month or quarter) to both SELECT and GROUP BY\n",
         "['distribution_channels', 'policies']",
         "2025-04-15 14:30:00",
         "data_analyst"
        ],
        [
         "2",
         "vq_agent_performance_report",
         "Agent Performance Report",
         "This query provides a performance report for agents, including their agency, certification level,  number of policies sold, total premium, and revenue impact. It only includes active agents and their active policies.\n",
         "SELECT \n  ag.agent_id,\n  ag.agent_name,\n  a.agency_name,\n  ag.certification_level,\n  COUNT(p.policy_id) AS policies_sold,\n  SUM(p.premium_amount) AS total_premium,\n  SUM(p.annual_revenue_impact) AS total_revenue_impact\nFROM \n  agents ag\n  JOIN agencies a ON ag.agency_id = a.agency_id\n  JOIN policies p ON ag.agent_id = p.agent_id\nWHERE \n  ag.status = 'active' -- active, inactive\n  AND p.status = 'active' -- active, lapsed, cancelled\nGROUP BY \n  ag.agent_id, ag.agent_name, a.agency_name, ag.certification_level\nORDER BY \n  total_premium DESC;",
         "Modification guidelines: 1. Filter conditions:\n    - Agent status: Can be modified to 'active' or 'inactive' using values from comments\n    - Policy status: Can be modified to 'active', 'lapsed', or 'cancelled' using values from comments\n    - Agency filter: Can be added as \"AND a.agency_id = [id]\" to filter by specific agency\n    - Certification level filter: Can be added as \"AND ag.certification_level = '[level]'\" to filter by certification\n    \n2. Time period:\n    - For specific time periods, add \"AND p.start_date BETWEEN '[start_date]' AND '[end_date]'\"\n    - Use ISO format dates (YYYY-MM-DD)\n    \n3. Field selection:\n    - Fields ag.agent_id, ag.agent_name must always be included in SELECT and GROUP BY\n    - Agency information can be expanded or reduced based on needs\n    - Experience-related fields can be added (ag.hire_date, ag.experience_years)\n    \n4. GROUP BY modifications:\n    - Any field added to or removed from SELECT should be correspondingly added to or removed from GROUP BY\n    - Exception: Aggregate functions (SUM, COUNT, AVG) should not be in GROUP BY\n    \n5. Sorting options:\n    - Default is by total_premium, but can be changed to policies_sold or total_revenue_impact\n    - Direction can be changed from DESC to ASC if needed\n",
         "['agents', 'agencies', 'policies']",
         "2025-04-15 15:45:00",
         "data_analyst"
        ],
        [
         "3",
         "vq_claims_analysis_by_policy_type",
         "Claims Analysis by Policy Type",
         "This query analyzes claims data grouped by policy type, showing total claim amount, average claim amount,  claim frequency, and loss ratio. The loss ratio is calculated as (total claim amount / total premium) for each policy type.\n",
         "SELECT \n  p.policy_type,\n  COUNT(p.policy_id) AS policy_count,\n  SUM(p.premium_amount) AS total_premium,\n  COUNT(c.claim_id) AS claim_count,\n  SUM(c.claim_amount) AS total_claim_amount,\n  AVG(c.claim_amount) AS avg_claim_amount,\n  COUNT(c.claim_id)::float / COUNT(p.policy_id) AS claim_frequency,\n  CASE \n    WHEN SUM(p.premium_amount) > 0 THEN \n      SUM(c.claim_amount) / SUM(p.premium_amount) * 100\n    ELSE 0\n  END AS loss_ratio_percent\nFROM \n  policies p\n  LEFT JOIN claims c ON p.policy_id = c.policy_id\nWHERE \n  p.status = 'active' -- active, lapsed, cancelled\nGROUP BY \n  p.policy_type\nORDER BY \n  loss_ratio_percent DESC;",
         "Modification guidelines: 1. Filter conditions:\n    - Policy status: Can be modified to 'active', 'lapsed', or 'cancelled' using values from comments\n    - Claim status filter: Can be added as \"AND c.claim_status = '[status]'\" to filter specific claim statuses\n    - Policy type filter: Can be added as \"AND p.policy_type = '[type]'\" to filter specific policy types\n    \n2. Time period:\n    - For policy period: \"AND p.start_date BETWEEN '[start_date]' AND '[end_date]'\"\n    - For claim period: \"AND c.claim_date BETWEEN '[start_date]' AND '[end_date]'\"\n    - Use ISO format dates (YYYY-MM-DD)\n    \n3. Field selection:\n    - Field p.policy_type must always be included in SELECT and GROUP BY\n    - Calculation fields can be removed if not needed\n    - Deductible-related fields can be added if needed\n    \n4. GROUP BY modifications:\n    - If other dimensions are added (region, agency tier, etc.), they must be included in both SELECT and GROUP BY\n    \n5. Additional analyses:\n    - For severity analysis, focus on avg_claim_amount\n    - For frequency analysis, focus on claim_frequency\n    - For profitability, focus on loss_ratio_percent\n    - Sorting can be changed based on analysis focus\n",
         "['policies', 'claims']",
         "2025-04-16 09:15:00",
         "data_analyst"
        ],
        [
         "4",
         "vq_agency_performance_by_region",
         "Regional Agency Performance",
         "This query analyzes agency performance by region, showing the number of agencies, average premium per agency,  total premium, and policy count for each region. The results are sorted by total premium in descending order.\n",
         "SELECT \n  a.region,\n  COUNT(DISTINCT a.agency_id) AS agency_count,\n  SUM(p.premium_amount) AS total_premium,\n  SUM(p.premium_amount) / COUNT(DISTINCT a.agency_id) AS avg_premium_per_agency,\n  COUNT(p.policy_id) AS policy_count\nFROM \n  agencies a\n  JOIN agents ag ON a.agency_id = ag.agency_id\n  JOIN policies p ON ag.agent_id = p.agent_id\nWHERE \n  p.status = 'active' -- active, lapsed, cancelled\nGROUP BY \n  a.region\nORDER BY \n  total_premium DESC;",
         "Modification guidelines: 1. Filter conditions:\n    - Policy status: Can be modified to 'active', 'lapsed', or 'cancelled' using values from comments\n    - Region filter: Can be added as \"AND a.region = '[region]'\" to filter specific region\n    - Agency tier filter: Can be added as \"AND a.tier = '[tier]'\" to filter by agency tier\n    \n2. Time period:\n    - For specific time periods, add \"AND p.start_date BETWEEN '[start_date]' AND '[end_date]'\"\n    - Use ISO format dates (YYYY-MM-DD)\n    \n3. Field selection:\n    - Field a.region must always be included in SELECT and GROUP BY\n    - Additional geographic fields (state, city) can be added for more detailed analysis\n    - Agency tiers can be included by adding a.tier to both SELECT and GROUP BY\n    \n4. GROUP BY modifications:\n    - If other dimensions are added (tier, etc.), they must be included in both SELECT and GROUP BY\n    \n5. Result variations:\n    - To analyze agency count distribution, sort by agency_count\n    - To analyze efficiency, sort by avg_premium_per_agency\n    - To analyze market penetration, include and sort by policy_count\n",
         "['agencies', 'agents', 'policies']",
         "2025-04-16 11:30:00",
         "data_analyst"
        ],
        [
         "5",
         "vq_agency_performance_by_tier",
         "Agency Performance by Tier",
         "This query analyzes agency performance by tier (Gold, Silver, Bronze, Platinum), showing the number of agencies,  total premium, average premium per agency, and policy count for each tier. The results are sorted by total premium.\n",
         "SELECT \n  a.tier,\n  COUNT(DISTINCT a.agency_id) AS agency_count,\n  SUM(p.premium_amount) AS total_premium,\n  SUM(p.premium_amount) / COUNT(DISTINCT a.agency_id) AS avg_premium_per_agency,\n  COUNT(p.policy_id) AS policy_count\nFROM \n  agencies a\n  JOIN agents ag ON a.agency_id = ag.agency_id\n  JOIN policies p ON ag.agent_id = p.agent_id\nWHERE \n  p.status = 'active' -- active, lapsed, cancelled\nGROUP BY \n  a.tier\nORDER BY \n  total_premium DESC;",
         "Modification guidelines: 1. Filter conditions:\n    - Policy status: Can be modified to 'active', 'lapsed', or 'cancelled' using values from comments\n    - Tier filter: Can be added as \"AND a.tier = '[tier]'\" to filter specific tier\n    - Region filter: Can be added as \"AND a.region = '[region]'\" to filter by specific region\n    \n2. Time period:\n    - For specific time periods, add \"AND p.start_date BETWEEN '[start_date]' AND '[end_date]'\"\n    - Use ISO format dates (YYYY-MM-DD)\n    \n3. Field selection:\n    - Field a.tier must always be included in SELECT and GROUP BY\n    - Region can be included for regional tier analysis\n    \n4. GROUP BY modifications:\n    - If other dimensions are added (region, etc.), they must be included in both SELECT and GROUP BY\n    \n5. Analysis variations:\n    - For tier efficiency analysis, focus on avg_premium_per_agency\n    - For tier penetration analysis, focus on policy_count\n    - For tier representation, focus on agency_count\n",
         "['agencies', 'agents', 'policies']",
         "2025-04-16 13:45:00",
         "data_analyst"
        ],
        [
         "6",
         "vq_top_agencies_avg_premium",
         "Top Agencies by Average Premium",
         "This query identifies agencies with the highest average premium per policy, which may indicate agencies  focusing on high-value policies or premium market segments. Results are limited to top 10 agencies by default.\n",
         "SELECT \n  a.agency_id,\n  a.agency_name,\n  a.region,\n  a.tier,\n  COUNT(p.policy_id) AS policy_count,\n  SUM(p.premium_amount) AS total_premium,\n  AVG(p.premium_amount) AS avg_premium_per_policy\nFROM \n  agencies a\n  JOIN agents ag ON a.agency_id = ag.agency_id\n  JOIN policies p ON ag.agent_id = p.agent_id\nWHERE \n  p.status = 'active' -- active, lapsed, cancelled\nGROUP BY \n  a.agency_id, a.agency_name, a.region, a.tier\nHAVING \n  COUNT(p.policy_id) >= 5  -- Ensure statistical relevance with minimum policies\nORDER BY \n  avg_premium_per_policy DESC\nLIMIT 10;",
         "Modification guidelines: 1. Filter conditions:\n    - Policy status: Can be modified to 'active', 'lapsed', or 'cancelled' using values from comments\n    - Minimum policy count: Can add \"HAVING COUNT(p.policy_id) >= [min_count]\" for statistical relevance\n    - Region filter: Can be added as \"AND a.region = '[region]'\" for regional analysis\n    \n2. Time period:\n    - For specific time periods, add \"AND p.start_date BETWEEN '[start_date]' AND '[end_date]'\"\n    - Use ISO format dates (YYYY-MM-DD)\n    \n3. Field selection:\n    - Fields a.agency_id and a.agency_name must always be included in SELECT and GROUP BY\n    - Additional agency attributes can be added as needed\n    \n4. Result limiting:\n    - LIMIT clause can be adjusted or removed based on needs\n    - Default is top 10, can be changed to any value\n    \n5. Statistical relevance:\n    - Consider adding HAVING clause to filter out agencies with too few policies\n    - For example: \"HAVING COUNT(p.policy_id) >= 10\" for agencies with 10+ policies\n",
         "['agencies', 'agents', 'policies']",
         "2025-04-17 09:00:00",
         "data_analyst"
        ],
        [
         "7",
         "vq_policy_type_performance",
         "Policy Type Performance Analysis",
         "This query analyzes the performance of different policy types by measuring policy count, total premium,  average premium, and revenue impact. Results are sorted by total premium to identify top performing policy types.\n",
         "SELECT \n  p.policy_type,\n  COUNT(p.policy_id) AS policy_count,\n  SUM(p.premium_amount) AS total_premium,\n  AVG(p.premium_amount) AS avg_premium,\n  SUM(p.annual_revenue_impact) AS total_revenue_impact,\n  CASE \n    WHEN SUM(p.premium_amount) > 0 THEN \n      (SUM(p.annual_revenue_impact) / SUM(p.premium_amount)) * 100\n    ELSE 0\n  END AS roi_percent,\n  AVG(p.risk_score) AS avg_risk_score\nFROM \n  policies p\nWHERE \n  p.status = 'active' -- active, lapsed, cancelled\nGROUP BY \n  p.policy_type\nORDER BY \n  total_premium DESC;",
         "Modification guidelines: 1. Filter conditions:\n    - Policy status: Can be modified to 'active', 'lapsed', or 'cancelled' using values from comments\n    - Specific policy type: Can add \"AND p.policy_type = '[type]'\" to focus on one type\n    \n2. Time period:\n    - For specific time periods, add \"AND p.start_date BETWEEN '[start_date]' AND '[end_date]'\"\n    - Use ISO format dates (YYYY-MM-DD)\n    \n3. Field selection:\n    - Field p.policy_type must always be included in SELECT and GROUP BY\n    - Risk score metrics can be added or removed based on analysis needs\n    \n4. Dimensional analysis:\n    - Can add region or channel dimensions by joining appropriate tables\n    - Any dimension added must be included in both SELECT and GROUP BY\n    \n5. Sorting options:\n    - Default is by total_premium, but can be changed to policy_count, avg_premium, or roi_percent\n    - Direction can be changed from DESC to ASC if needed\n",
         "['policies']",
         "2025-04-17 11:15:00",
         "data_analyst"
        ],
        [
         "8",
         "vq_channel_growth_over_time",
         "Distribution Channel Growth Analysis",
         "This query analyzes the growth of different distribution channels over time by showing policy count and premium  amounts by quarter. It helps identify which channels are growing, stable, or declining in performance.\n",
         "SELECT \n  date_trunc('quarter', p.start_date) AS quarter,\n  dc.channel_name,\n  dc.channel_type,\n  COUNT(p.policy_id) AS policy_count,\n  SUM(p.premium_amount) AS total_premium\nFROM \n  distribution_channels dc\n  JOIN policies p ON dc.channel_id = p.channel_id\nWHERE \n  p.status = 'active' -- active, lapsed, cancelled\nGROUP BY \n  quarter, dc.channel_name, dc.channel_type\nORDER BY \n  quarter, dc.channel_name;",
         "Modification guidelines: 1. Filter conditions:\n    - Policy status: Can be modified to 'active', 'lapsed', or 'cancelled' using values from comments\n    - Channel type: Can add \"AND dc.channel_type = '[type]'\" to focus on specific channel types\n    \n2. Time period:\n    - Default is to show all time data by quarter\n    - Can modify to specific period: \"AND p.start_date BETWEEN '[start_date]' AND '[end_date]'\"\n    - Can change granularity to month, year by modifying the date_trunc function\n    \n3. Field selection:\n    - date_trunc and dc.channel_name must be included in SELECT and GROUP BY\n    - Can focus only on count or premium metrics by removing unnecessary columns\n    \n4. Growth calculation:\n    - By default, absolute numbers are shown\n    - Advanced: Could add window functions for quarter-over-quarter growth percentage\n    \n5. Visualization preparation:\n    - This query is designed to be visualized as a line or bar chart\n    - Ensure date_trunc is first column for proper time-series visualization\n",
         "['distribution_channels', 'policies']",
         "2025-04-17 14:30:00",
         "data_analyst"
        ],
        [
         "9",
         "vq_channel_commission_analysis",
         "Distribution Channel Commission Analysis",
         "This query analyzes commission payouts across different distribution channels, showing total premium,  commission rates, estimated commission amounts, and commission efficiency (commission as percentage of premium).\n",
         "SELECT \n  dc.channel_id,\n  dc.channel_name,\n  dc.channel_type,\n  COUNT(p.policy_id) AS policy_count,\n  SUM(p.premium_amount) AS total_premium,\n  dc.commission_rate,\n  SUM(p.premium_amount * dc.commission_rate / 100) AS total_commission,\n  (SUM(p.premium_amount * dc.commission_rate / 100) / SUM(p.premium_amount)) * 100 AS commission_percent\nFROM \n  distribution_channels dc\n  JOIN policies p ON dc.channel_id = p.channel_id\nWHERE \n  p.status = 'active' -- active, lapsed, cancelled\nGROUP BY \n  dc.channel_id, dc.channel_name, dc.channel_type, dc.commission_rate\nORDER BY \n  total_commission DESC;",
         "Modification guidelines: 1. Filter conditions:\n    - Policy status: Can be modified to 'active', 'lapsed', or 'cancelled' using values from comments\n    - Commission threshold: Can add \"HAVING SUM(p.premium_amount * dc.commission_rate / 100) > [amount]\"\n    \n2. Time period:\n    - For specific time periods, add \"AND p.start_date BETWEEN '[start_date]' AND '[end_date]'\"\n    - Use ISO format dates (YYYY-MM-DD)\n    \n3. Field selection:\n    - Channel identification fields and commission metrics must be included\n    - Can add channel_type grouping by including in both SELECT and GROUP BY\n    \n4. Commission efficiency:\n    - commission_percent field shows commission as percentage of premium\n    - Can be used to identify high-cost distribution channels\n    \n5. Sorting options:\n    - Default is by total_commission (highest commission expense first)\n    - Can change to commission_percent for efficiency analysis\n    - Can change to commission_rate to see highest rate channels\n",
         "['distribution_channels', 'policies']",
         "2025-04-18 09:45:00",
         "data_analyst"
        ],
        [
         "10",
         "vq_agent_certification_performance",
         "Agent Performance by Certification Level",
         "This query analyzes agent performance metrics grouped by certification level, showing how different  certification levels correlate with sales performance, premium generation, and revenue impact.\n",
         "SELECT \n  ag.certification_level,\n  COUNT(DISTINCT ag.agent_id) AS agent_count,\n  COUNT(p.policy_id) AS total_policies_sold,\n  COUNT(p.policy_id) / COUNT(DISTINCT ag.agent_id) AS avg_policies_per_agent,\n  SUM(p.premium_amount) AS total_premium,\n  SUM(p.premium_amount) / COUNT(DISTINCT ag.agent_id) AS avg_premium_per_agent,\n  SUM(p.annual_revenue_impact) AS total_revenue_impact,\n  SUM(p.annual_revenue_impact) / COUNT(DISTINCT ag.agent_id) AS avg_revenue_per_agent\nFROM \n  agents ag\n  JOIN policies p ON ag.agent_id = p.agent_id\nWHERE \n  ag.status = 'active' -- active, inactive\n  AND p.status = 'active' -- active, lapsed, cancelled\nGROUP BY \n  ag.certification_level\nORDER BY \n  ag.certification_level;",
         "Modification guidelines: 1. Filter conditions:\n    - Agent status: Can be modified to 'active' or 'inactive' using values from comments\n    - Policy status: Can be modified to 'active', 'lapsed', or 'cancelled' using values from comments\n    \n2. Time period:\n    - For specific time periods, add \"AND p.start_date BETWEEN '[start_date]' AND '[end_date]'\"\n    - Use ISO format dates (YYYY-MM-DD)\n    \n3. Field selection:\n    - Certification level must always be included in SELECT and GROUP BY\n    - Can include agent count and averages to compare performance profiles\n    \n4. Per-agent metrics:\n    - Include \"AS avg_policies_per_agent\" type metrics for normalized comparison\n    - Helps determine if higher certification levels correlate with higher performance\n    \n5. Sorting options:\n    - Default is by certification_level for easy comparison\n    - Can change to any performance metric to rank by performance\n",
         "['agents', 'policies']",
         "2025-04-18 11:30:00",
         "data_analyst"
        ]
       ],
       "shape": {
        "columns": 8,
        "rows": 11
       }
      },
      "text/html": [
       "<div>\n",
       "<style scoped>\n",
       "    .dataframe tbody tr th:only-of-type {\n",
       "        vertical-align: middle;\n",
       "    }\n",
       "\n",
       "    .dataframe tbody tr th {\n",
       "        vertical-align: top;\n",
       "    }\n",
       "\n",
       "    .dataframe thead th {\n",
       "        text-align: right;\n",
       "    }\n",
       "</style>\n",
       "<table border=\"1\" class=\"dataframe\">\n",
       "  <thead>\n",
       "    <tr style=\"text-align: right;\">\n",
       "      <th></th>\n",
       "      <th>id</th>\n",
       "      <th>name</th>\n",
       "      <th>query_explanation</th>\n",
       "      <th>sql</th>\n",
       "      <th>instructions</th>\n",
       "      <th>tables_used</th>\n",
       "      <th>verified_at</th>\n",
       "      <th>verified_by</th>\n",
       "    </tr>\n",
       "  </thead>\n",
       "  <tbody>\n",
       "    <tr>\n",
       "      <th>0</th>\n",
       "      <td>vq_top_agencies_premium</td>\n",
       "      <td>Top Performing Agencies by Premium</td>\n",
       "      <td>This query calculates the total premium amount...</td>\n",
       "      <td>SELECT \\n  a.agency_id,\\n  a.agency_name,\\n  a...</td>\n",
       "      <td>Modification guidelines: 1. Filter conditions:...</td>\n",
       "      <td>[agencies, agents, policies]</td>\n",
       "      <td>2025-04-15 10:00:00</td>\n",
       "      <td>data_analyst</td>\n",
       "    </tr>\n",
       "    <tr>\n",
       "      <th>1</th>\n",
       "      <td>vq_distribution_channel_performance</td>\n",
       "      <td>Distribution Channel Performance Analysis</td>\n",
       "      <td>This query analyzes the performance of differe...</td>\n",
       "      <td>SELECT \\n  dc.channel_id,\\n  dc.channel_name,\\...</td>\n",
       "      <td>Modification guidelines: 1. Filter conditions:...</td>\n",
       "      <td>[distribution_channels, policies]</td>\n",
       "      <td>2025-04-15 14:30:00</td>\n",
       "      <td>data_analyst</td>\n",
       "    </tr>\n",
       "    <tr>\n",
       "      <th>2</th>\n",
       "      <td>vq_agent_performance_report</td>\n",
       "      <td>Agent Performance Report</td>\n",
       "      <td>This query provides a performance report for a...</td>\n",
       "      <td>SELECT \\n  ag.agent_id,\\n  ag.agent_name,\\n  a...</td>\n",
       "      <td>Modification guidelines: 1. Filter conditions:...</td>\n",
       "      <td>[agents, agencies, policies]</td>\n",
       "      <td>2025-04-15 15:45:00</td>\n",
       "      <td>data_analyst</td>\n",
       "    </tr>\n",
       "    <tr>\n",
       "      <th>3</th>\n",
       "      <td>vq_claims_analysis_by_policy_type</td>\n",
       "      <td>Claims Analysis by Policy Type</td>\n",
       "      <td>This query analyzes claims data grouped by pol...</td>\n",
       "      <td>SELECT \\n  p.policy_type,\\n  COUNT(p.policy_id...</td>\n",
       "      <td>Modification guidelines: 1. Filter conditions:...</td>\n",
       "      <td>[policies, claims]</td>\n",
       "      <td>2025-04-16 09:15:00</td>\n",
       "      <td>data_analyst</td>\n",
       "    </tr>\n",
       "    <tr>\n",
       "      <th>4</th>\n",
       "      <td>vq_agency_performance_by_region</td>\n",
       "      <td>Regional Agency Performance</td>\n",
       "      <td>This query analyzes agency performance by regi...</td>\n",
       "      <td>SELECT \\n  a.region,\\n  COUNT(DISTINCT a.agenc...</td>\n",
       "      <td>Modification guidelines: 1. Filter conditions:...</td>\n",
       "      <td>[agencies, agents, policies]</td>\n",
       "      <td>2025-04-16 11:30:00</td>\n",
       "      <td>data_analyst</td>\n",
       "    </tr>\n",
       "    <tr>\n",
       "      <th>5</th>\n",
       "      <td>vq_agency_performance_by_tier</td>\n",
       "      <td>Agency Performance by Tier</td>\n",
       "      <td>This query analyzes agency performance by tier...</td>\n",
       "      <td>SELECT \\n  a.tier,\\n  COUNT(DISTINCT a.agency_...</td>\n",
       "      <td>Modification guidelines: 1. Filter conditions:...</td>\n",
       "      <td>[agencies, agents, policies]</td>\n",
       "      <td>2025-04-16 13:45:00</td>\n",
       "      <td>data_analyst</td>\n",
       "    </tr>\n",
       "    <tr>\n",
       "      <th>6</th>\n",
       "      <td>vq_top_agencies_avg_premium</td>\n",
       "      <td>Top Agencies by Average Premium</td>\n",
       "      <td>This query identifies agencies with the highes...</td>\n",
       "      <td>SELECT \\n  a.agency_id,\\n  a.agency_name,\\n  a...</td>\n",
       "      <td>Modification guidelines: 1. Filter conditions:...</td>\n",
       "      <td>[agencies, agents, policies]</td>\n",
       "      <td>2025-04-17 09:00:00</td>\n",
       "      <td>data_analyst</td>\n",
       "    </tr>\n",
       "    <tr>\n",
       "      <th>7</th>\n",
       "      <td>vq_policy_type_performance</td>\n",
       "      <td>Policy Type Performance Analysis</td>\n",
       "      <td>This query analyzes the performance of differe...</td>\n",
       "      <td>SELECT \\n  p.policy_type,\\n  COUNT(p.policy_id...</td>\n",
       "      <td>Modification guidelines: 1. Filter conditions:...</td>\n",
       "      <td>[policies]</td>\n",
       "      <td>2025-04-17 11:15:00</td>\n",
       "      <td>data_analyst</td>\n",
       "    </tr>\n",
       "    <tr>\n",
       "      <th>8</th>\n",
       "      <td>vq_channel_growth_over_time</td>\n",
       "      <td>Distribution Channel Growth Analysis</td>\n",
       "      <td>This query analyzes the growth of different di...</td>\n",
       "      <td>SELECT \\n  date_trunc('quarter', p.start_date)...</td>\n",
       "      <td>Modification guidelines: 1. Filter conditions:...</td>\n",
       "      <td>[distribution_channels, policies]</td>\n",
       "      <td>2025-04-17 14:30:00</td>\n",
       "      <td>data_analyst</td>\n",
       "    </tr>\n",
       "    <tr>\n",
       "      <th>9</th>\n",
       "      <td>vq_channel_commission_analysis</td>\n",
       "      <td>Distribution Channel Commission Analysis</td>\n",
       "      <td>This query analyzes commission payouts across ...</td>\n",
       "      <td>SELECT \\n  dc.channel_id,\\n  dc.channel_name,\\...</td>\n",
       "      <td>Modification guidelines: 1. Filter conditions:...</td>\n",
       "      <td>[distribution_channels, policies]</td>\n",
       "      <td>2025-04-18 09:45:00</td>\n",
       "      <td>data_analyst</td>\n",
       "    </tr>\n",
       "    <tr>\n",
       "      <th>10</th>\n",
       "      <td>vq_agent_certification_performance</td>\n",
       "      <td>Agent Performance by Certification Level</td>\n",
       "      <td>This query analyzes agent performance metrics ...</td>\n",
       "      <td>SELECT \\n  ag.certification_level,\\n  COUNT(DI...</td>\n",
       "      <td>Modification guidelines: 1. Filter conditions:...</td>\n",
       "      <td>[agents, policies]</td>\n",
       "      <td>2025-04-18 11:30:00</td>\n",
       "      <td>data_analyst</td>\n",
       "    </tr>\n",
       "  </tbody>\n",
       "</table>\n",
       "</div>"
      ],
      "text/plain": [
       "                                     id  \\\n",
       "0               vq_top_agencies_premium   \n",
       "1   vq_distribution_channel_performance   \n",
       "2           vq_agent_performance_report   \n",
       "3     vq_claims_analysis_by_policy_type   \n",
       "4       vq_agency_performance_by_region   \n",
       "5         vq_agency_performance_by_tier   \n",
       "6           vq_top_agencies_avg_premium   \n",
       "7            vq_policy_type_performance   \n",
       "8           vq_channel_growth_over_time   \n",
       "9        vq_channel_commission_analysis   \n",
       "10   vq_agent_certification_performance   \n",
       "\n",
       "                                         name  \\\n",
       "0          Top Performing Agencies by Premium   \n",
       "1   Distribution Channel Performance Analysis   \n",
       "2                    Agent Performance Report   \n",
       "3              Claims Analysis by Policy Type   \n",
       "4                 Regional Agency Performance   \n",
       "5                  Agency Performance by Tier   \n",
       "6             Top Agencies by Average Premium   \n",
       "7            Policy Type Performance Analysis   \n",
       "8        Distribution Channel Growth Analysis   \n",
       "9    Distribution Channel Commission Analysis   \n",
       "10   Agent Performance by Certification Level   \n",
       "\n",
       "                                    query_explanation  \\\n",
       "0   This query calculates the total premium amount...   \n",
       "1   This query analyzes the performance of differe...   \n",
       "2   This query provides a performance report for a...   \n",
       "3   This query analyzes claims data grouped by pol...   \n",
       "4   This query analyzes agency performance by regi...   \n",
       "5   This query analyzes agency performance by tier...   \n",
       "6   This query identifies agencies with the highes...   \n",
       "7   This query analyzes the performance of differe...   \n",
       "8   This query analyzes the growth of different di...   \n",
       "9   This query analyzes commission payouts across ...   \n",
       "10  This query analyzes agent performance metrics ...   \n",
       "\n",
       "                                                  sql  \\\n",
       "0   SELECT \\n  a.agency_id,\\n  a.agency_name,\\n  a...   \n",
       "1   SELECT \\n  dc.channel_id,\\n  dc.channel_name,\\...   \n",
       "2   SELECT \\n  ag.agent_id,\\n  ag.agent_name,\\n  a...   \n",
       "3   SELECT \\n  p.policy_type,\\n  COUNT(p.policy_id...   \n",
       "4   SELECT \\n  a.region,\\n  COUNT(DISTINCT a.agenc...   \n",
       "5   SELECT \\n  a.tier,\\n  COUNT(DISTINCT a.agency_...   \n",
       "6   SELECT \\n  a.agency_id,\\n  a.agency_name,\\n  a...   \n",
       "7   SELECT \\n  p.policy_type,\\n  COUNT(p.policy_id...   \n",
       "8   SELECT \\n  date_trunc('quarter', p.start_date)...   \n",
       "9   SELECT \\n  dc.channel_id,\\n  dc.channel_name,\\...   \n",
       "10  SELECT \\n  ag.certification_level,\\n  COUNT(DI...   \n",
       "\n",
       "                                         instructions  \\\n",
       "0   Modification guidelines: 1. Filter conditions:...   \n",
       "1   Modification guidelines: 1. Filter conditions:...   \n",
       "2   Modification guidelines: 1. Filter conditions:...   \n",
       "3   Modification guidelines: 1. Filter conditions:...   \n",
       "4   Modification guidelines: 1. Filter conditions:...   \n",
       "5   Modification guidelines: 1. Filter conditions:...   \n",
       "6   Modification guidelines: 1. Filter conditions:...   \n",
       "7   Modification guidelines: 1. Filter conditions:...   \n",
       "8   Modification guidelines: 1. Filter conditions:...   \n",
       "9   Modification guidelines: 1. Filter conditions:...   \n",
       "10  Modification guidelines: 1. Filter conditions:...   \n",
       "\n",
       "                          tables_used         verified_at   verified_by  \n",
       "0        [agencies, agents, policies] 2025-04-15 10:00:00  data_analyst  \n",
       "1   [distribution_channels, policies] 2025-04-15 14:30:00  data_analyst  \n",
       "2        [agents, agencies, policies] 2025-04-15 15:45:00  data_analyst  \n",
       "3                  [policies, claims] 2025-04-16 09:15:00  data_analyst  \n",
       "4        [agencies, agents, policies] 2025-04-16 11:30:00  data_analyst  \n",
       "5        [agencies, agents, policies] 2025-04-16 13:45:00  data_analyst  \n",
       "6        [agencies, agents, policies] 2025-04-17 09:00:00  data_analyst  \n",
       "7                          [policies] 2025-04-17 11:15:00  data_analyst  \n",
       "8   [distribution_channels, policies] 2025-04-17 14:30:00  data_analyst  \n",
       "9   [distribution_channels, policies] 2025-04-18 09:45:00  data_analyst  \n",
       "10                 [agents, policies] 2025-04-18 11:30:00  data_analyst  "
      ]
     },
     "metadata": {},
     "output_type": "display_data"
    }
   ],
   "source": [
    "with Session(engine) as db:\n",
    "    # Get all query IDs first to show what's available\n",
    "    result = db.execute(text(\"SELECT * FROM verified_query\"))\n",
    "    queries = result.fetchall()\n",
    "    \n",
    "\n",
    "    # Pandas dataframe for better visualization\n",
    "    import pandas as pd\n",
    "    df = pd.DataFrame(queries)\n",
    "\n",
    "    print(\"Available queries in database:\")\n",
    "    display(df)"
   ]
  },
  {
   "cell_type": "markdown",
   "metadata": {},
   "source": [
    "## Validating all queries by running them"
   ]
  },
  {
   "cell_type": "code",
   "execution_count": 4,
   "metadata": {},
   "outputs": [
    {
     "name": "stdout",
     "output_type": "stream",
     "text": [
      "Total queries in database: 11\n",
      "Validating [001]: vq_top_agencies_premium (Top Performing Agencies by Premium)\n",
      "Validating [002]: vq_distribution_channel_performance (Distribution Channel Performance Analysis)\n",
      "Validating [003]: vq_agent_performance_report (Agent Performance Report)\n",
      "Validating [004]: vq_claims_analysis_by_policy_type (Claims Analysis by Policy Type)\n",
      "Validating [005]: vq_agency_performance_by_region (Regional Agency Performance)\n",
      "Validating [006]: vq_agency_performance_by_tier (Agency Performance by Tier)\n",
      "Validating [007]: vq_top_agencies_avg_premium (Top Agencies by Average Premium)\n",
      "Validating [008]: vq_policy_type_performance (Policy Type Performance Analysis)\n",
      "Validating [009]: vq_channel_growth_over_time (Distribution Channel Growth Analysis)\n",
      "Validating [010]: vq_channel_commission_analysis (Distribution Channel Commission Analysis)\n",
      "Validating [011]: vq_agent_certification_performance (Agent Performance by Certification Level)\n"
     ]
    }
   ],
   "source": [
    "print(\"Total queries in database:\", len(df))\n",
    "for index, row in df.iterrows():\n",
    "    print(f\"Validating [{(index+1):03}]: {row['id']} ({row['name']})\")\n",
    "    with Session(insurance_db_engine) as db:\n",
    "        # Run the query \n",
    "        try:\n",
    "            result = db.execute(text(row['sql']))\n",
    "            rows = result.fetchall()[:1]  # Limit to first 10 rows for display\n",
    "            columns = result.keys()\n",
    "            data = [dict(zip(columns, r)) for r in rows]\n",
    "            # Convert to DataFrame for better visualization\n",
    "            df_data = pd.DataFrame(data)\n",
    "        except Exception as e:\n",
    "            print(\"Error executing query:\", e)\n"
   ]
  },
  {
   "cell_type": "markdown",
   "metadata": {},
   "source": [
    "## Testing get_verified_query"
   ]
  },
  {
   "cell_type": "code",
   "execution_count": 5,
   "metadata": {},
   "outputs": [
    {
     "name": "stdout",
     "output_type": "stream",
     "text": [
      "\n",
      "Retrieved query: Top Performing Agencies by Premium\n",
      "Explanation: This query calculates the total premium amount generated by each agency.  It joins the agencies, age...\n",
      "SQL:\n",
      "SELECT \n",
      "  a.agency_id,\n",
      "  a.agency_name,\n",
      "  a.region,\n",
      "  a.tier,\n",
      "  COUNT(p.policy_id) AS policy_count,\n",
      "  SUM(p.premium_amount) AS total_premium,\n",
      "  AVG(p.premium_amount) AS avg_premium\n",
      "FROM \n",
      "  agencies a\n",
      "...\n",
      "Number of questions: 4\n",
      "Sample questions:\n",
      "  1. Which agencies generate the most premium?\n",
      "  2. What are our top agencies by premium revenue?\n",
      "  3. Which agencies have the highest premium amounts?\n",
      "Follow-ups: ['vq_agency_performance_by_region', 'vq_agency_performance_by_tier', 'vq_top_agencies_avg_premium', 'vq_policy_type_performance', 'vq_claims_analysis_by_policy_type', 'vq_distribution_channel_performance', 'vq_agent_performance_report']\n"
     ]
    }
   ],
   "source": [
    "with Session(engine) as db:\n",
    "    # Ask for query ID to test\n",
    "    query_id = input(\"\\nEnter a query ID to retrieve (or press Enter for 'vq_top_agencies_premium'): \")\n",
    "    if not query_id:\n",
    "        query_id = \"vq_top_agencies_premium\"\n",
    "    \n",
    "    # Get the query\n",
    "    vq = get_verified_query(query_id, db)\n",
    "    \n",
    "    if vq:\n",
    "        print(f\"\\nRetrieved query: {vq.name}\")\n",
    "        print(f\"Explanation: {vq.query_explanation[:100]}...\")\n",
    "        print(f\"SQL:\\n{vq.sql[:200]}...\")\n",
    "        print(f\"Number of questions: {len(vq.questions)}\")\n",
    "        if vq.questions:\n",
    "            print(\"Sample questions:\")\n",
    "            for i, q in enumerate(vq.questions[:3]):\n",
    "                print(f\"  {i+1}. {q.text}\")\n",
    "        print(f\"Follow-ups: {vq.follow_ups}\")\n",
    "    else:\n",
    "        print(f\"No query found with ID: {query_id}\")"
   ]
  },
  {
   "cell_type": "markdown",
   "metadata": {},
   "source": [
    "## Testing get_verified_queries_by_vector"
   ]
  },
  {
   "cell_type": "code",
   "execution_count": 7,
   "metadata": {},
   "outputs": [
    {
     "name": "stdout",
     "output_type": "stream",
     "text": [
      "Test questions:\n",
      "  1. Which agencies generate the most premium?\n",
      "  2. How are our distribution channels performing?\n",
      "  3. What is the average claim amount for auto policies?\n",
      "  4. Show me agency performance by region\n",
      "\n",
      "Searching for: 'which are the best agencies?'\n"
     ]
    },
    {
     "name": "stderr",
     "output_type": "stream",
     "text": [
      "Batches: 100%|██████████| 1/1 [00:00<00:00,  5.93it/s]"
     ]
    },
    {
     "name": "stdout",
     "output_type": "stream",
     "text": [
      "\n",
      "    SELECT \n",
      "        vq.id, \n",
      "        1 - (q.vector_embedding <=> '[0.048875093,-0.13988926,-0.1026287,0.0016150457,0.009610684,0.025216253,0.003057069,0.0033119167,0.014516376,0.016063794,-0.02720114,0.027853236,-0.033775564,0.06956033,0.026320929,-0.0138694495,0.08349392,0.02796839,0.033016093,-0.11185863,-0.05996178,0.007484275,0.02785974,-0.046576846,0.009911235,0.003370585,-0.092383794,-0.058274582,-0.05668949,-0.044252142,-0.04337034,0.0016410353,-0.033561863,0.014316582,0.09615959,0.076091595,-0.030655498,-0.043862708,0.054361947,-0.009110285,-0.0313952,0.024144145,0.01151092,-0.08001156,0.0023916108,-0.11548402,0.031824633,0.07836838,-0.044699833,0.08363068,-0.011621376,-0.07680655,-0.005733484,0.08937619,-0.036168717,0.02943545,-0.07103481,-0.011277833,-0.05824684,-0.044279188,-0.09186385,0.0070578144,-0.02128941,0.034570713,-0.0008568118,0.07486578,-0.05636881,0.0466204,-0.033040926,-0.1127936,-0.03359681,-0.15078236,-0.06428328,0.047789697,0.105715655,0.03705486,0.05166197,0.04449786,0.05615112,-0.05645638,0.06251504,-0.05202104,-0.047436792,0.06521134,0.027501907,-0.048840433,-0.030735696,-0.012639644,0.008315628,0.004793229,0.0736921,0.07233302,0.013955169,0.02833894,-0.041986875,-0.012139264,-0.030695857,-0.021514034,-0.027186465,0.036404446,-0.04802986,-0.04886153,-0.038110096,0.039808918,-0.036764223,-0.03712942,0.050643075,0.012830749,0.023245366,0.08203614,-0.01805209,0.06923841,-0.025168857,0.01895012,0.08996712,-0.014871973,0.0011364355,0.12127168,0.13469802,-0.025013568,-0.038740497,0.09387644,0.019108295,-0.033898912,-0.0008241041,0.097070694,0.0018561508,-5.1313807e-33,-0.0020133243,0.06817427,0.08571152,-0.07969539,-0.047025654,0.031195424,-0.0049777287,0.09417326,-0.030790424,0.03990358,-0.0483382,0.10361107,-0.027214661,-0.0071768975,0.015780939,0.006430288,-0.029629463,0.041675374,-0.07456899,0.042986672,-0.04717351,0.090289414,-0.0014842561,0.051258717,0.08841424,-0.05163223,-0.023301458,0.046893384,0.057015415,0.030392122,-0.027456872,0.023944756,0.02297171,-0.021090433,-0.038153727,-0.0009604804,-0.0763912,-0.00040654134,-0.01196035,0.01774822,-0.081224784,0.06283451,0.03650282,0.019893046,0.055585008,0.052545786,-0.0034005754,0.01670328,-0.020247102,0.043088228,-0.041220173,-0.037046783,-0.03423524,0.053832088,0.03729805,0.034776337,0.030913303,0.010311787,0.03980299,-0.026676638,-0.023345726,-0.005437739,-0.073137835,-0.026442464,0.02428874,-0.028556244,0.05207497,-0.013682702,0.027330257,0.0198748,-0.03391634,0.06251138,0.09960153,0.0065146126,-0.06673008,-0.03600904,-0.019042175,0.048077185,0.0022987367,0.021428403,-0.03742652,0.097959444,0.026707528,0.07005569,0.07398802,0.039003767,-0.01105355,-0.0946791,-0.012073279,0.039369617,-0.11325829,0.02767553,0.035150405,0.066090755,-0.008781761,2.5742874e-33,0.01918274,-0.10196134,0.031727646,0.093210876,-0.021005673,-0.031732492,-0.0061322176,-0.03821064,0.11608986,0.0508427,-0.03399803,-0.01437816,-0.0045326306,-0.035422236,0.061313197,-0.042797707,0.03572392,-0.12631078,0.0040352587,-0.031887162,0.06792448,0.052987527,-0.01590577,0.0051535773,0.07052674,-0.025083896,-0.099248655,-0.010486295,0.005065857,-0.028110765,-0.036567025,0.030848272,0.030614674,0.093612894,-0.09429235,0.013467533,-0.027475314,-0.008933689,-0.019171553,0.029432863,-1.4620995e-05,-0.020707719,-0.03562458,0.008224498,-0.018122626,-0.011534528,-0.030086318,0.09121253,-0.045596972,-0.0192803,-0.1283362,-0.025857715,-0.06706911,-0.02375685,-0.007125976,0.005071565,0.043985177,-0.012820869,-0.029571857,-0.010785031,0.012755233,0.050065488,-0.009244298,0.08679445,0.015552579,-0.017437462,0.03576433,0.036931902,-0.03848313,-0.030647216,0.072655186,-0.038273096,0.0140148215,0.012699077,-0.10359946,0.023271466,-0.009766245,-0.058952592,-0.032417513,0.004453957,-0.0003188016,-0.025400816,-0.009797979,0.047775947,-0.0025083525,0.06826145,0.030683154,-0.10972501,0.027129682,0.034224894,-0.041919924,-0.0710024,0.04261134,-0.012275026,-0.0082136225,-1.6563238e-08,0.030572345,-0.0051655616,-0.022591734,0.008624972,-0.015701622,-0.09317606,-0.036133964,0.13108382,0.017604562,-0.005944155,0.04550037,-0.0173741,-0.0734606,-0.005641326,-0.008872118,-0.05585831,0.024329476,-0.013233994,-0.0001454819,-0.0078485,-0.042408522,0.07944174,-0.036754355,-0.12771611,-0.040177252,-0.021005526,0.0018879222,-0.025479939,0.026384316,0.09049533,-0.049539715,-0.03951253,0.06670769,-0.05375212,-0.019743877,-0.020913806,0.00279245,-0.054342765,0.011947372,-0.052349485,0.03640952,0.028261635,0.007342324,-0.040386837,0.030413631,-0.04920772,0.07840931,-0.036375046,0.12510754,-0.06712118,-0.07854659,-0.052953772,-0.029526774,-0.048091363,0.025494616,-0.043936323,0.04232454,-0.06624168,0.024059976,0.063965484,-0.0017128906,-0.07523669,0.059336457,0.038961936]'::vector) AS similarity,\n",
      "        q.question_text\n",
      "    FROM \n",
      "        question q\n",
      "        JOIN verified_query vq ON q.verified_query_id = vq.id\n",
      "    ORDER BY \n",
      "        similarity DESC\n",
      "    LIMIT :n\n",
      "    \n",
      "\n",
      "Found 1 results:\n",
      "\n",
      "Result 1:\n",
      "  Query: Top Performing Agencies by Premium (ID: vq_top_agencies_premium)\n",
      "  Similarity: 0.7165\n",
      "  Matched question: 'Which agencies generate the most premium?'\n",
      "  Explanation: This query calculates the total premium amount generated by each agency.  It joins the agencies, age...\n"
     ]
    },
    {
     "name": "stderr",
     "output_type": "stream",
     "text": [
      "\n"
     ]
    }
   ],
   "source": [
    "with Session(engine) as db:\n",
    "    # Test with a few different questions\n",
    "    test_questions = [\n",
    "        \"Which agencies generate the most premium?\",\n",
    "        \"How are our distribution channels performing?\",\n",
    "        \"What is the average claim amount for auto policies?\",\n",
    "        \"Show me agency performance by region\"\n",
    "    ]\n",
    "    \n",
    "    print(\"Test questions:\")\n",
    "    for i, q in enumerate(test_questions):\n",
    "        print(f\"  {i+1}. {q}\")\n",
    "    \n",
    "    # Ask for question or custom input\n",
    "    question_num = input(\"\\nEnter question number to use (1-4), or type your own question: \")\n",
    "    \n",
    "    try:\n",
    "        idx = int(question_num) - 1\n",
    "        if 0 <= idx < len(test_questions):\n",
    "            question = test_questions[idx]\n",
    "        else:\n",
    "            question = question_num\n",
    "    except ValueError:\n",
    "        question = question_num\n",
    "    \n",
    "    print(f\"\\nSearching for: '{question}'\")\n",
    "    \n",
    "    # Get results\n",
    "    results = get_verified_queries_by_vector_search(question, n=3, db=db)\n",
    "    \n",
    "    print(f\"\\nFound {len(results)} results:\")\n",
    "    for i, result in enumerate(results):\n",
    "        vq = result[\"verified_query\"]\n",
    "        print(f\"\\nResult {i+1}:\")\n",
    "        print(f\"  Query: {vq.name} (ID: {vq.id})\")\n",
    "        print(f\"  Similarity: {result['similarity']:.4f}\")\n",
    "        print(f\"  Matched question: '{result['matched_question']}'\")\n",
    "        print(f\"  Explanation: {vq.query_explanation[:100]}...\")"
   ]
  },
  {
   "cell_type": "markdown",
   "metadata": {},
   "source": [
    "## Testing get_best_query\n",
    "\n",
    "This uses LLM to work through matched queries and select the best"
   ]
  },
  {
   "cell_type": "code",
   "execution_count": 8,
   "metadata": {},
   "outputs": [
    {
     "name": "stdout",
     "output_type": "stream",
     "text": [
      "Searching for: 'who is the second best agency'\n",
      "\n",
      "Finding best matching query using vector search + LLM ranking...\n"
     ]
    },
    {
     "name": "stderr",
     "output_type": "stream",
     "text": [
      "Batches: 100%|██████████| 1/1 [00:00<00:00,  8.60it/s]"
     ]
    },
    {
     "name": "stdout",
     "output_type": "stream",
     "text": [
      "\n",
      "    SELECT \n",
      "        vq.id, \n",
      "        1 - (q.vector_embedding <=> '[0.0015647069,-0.13904984,-0.12597209,-0.07016162,0.02423532,0.055151895,0.048906732,0.051763356,0.0613916,0.018893952,-0.037277535,-0.00085522735,0.0026301285,0.07665519,0.014043694,0.0154475905,0.06005047,0.0672471,0.02573232,-0.106669895,0.005118747,-0.032322697,0.0029294472,-0.05729535,0.012893771,0.029693015,-0.07562187,0.07719659,-0.063048795,-0.065049954,-0.017976124,-0.029095642,-0.022287395,0.032376923,0.037246715,0.061581008,-0.08828067,-0.023695545,0.06825991,-0.015273034,0.0067560235,-0.013836501,-0.011125074,-0.10917138,-0.027082682,-0.09611595,0.03858806,0.04049926,-0.039338995,0.07651062,-0.023089198,-0.020769428,0.0023538605,0.008659533,0.026048547,0.12109438,-0.08971686,-0.015856713,-0.05554514,-0.038599763,0.015686952,0.00035926892,-0.009719041,0.032915384,0.0450306,-0.032249454,-0.06823886,-0.018104654,-0.09330339,-0.114240006,0.020233855,-0.10615345,-0.06255493,-0.020708771,0.09737037,0.018709932,0.034727637,0.082524866,0.07893232,-0.06774168,0.08189726,-0.087081425,-0.032192294,0.05776278,-0.051728416,-0.049935307,-0.025075791,-0.0046506855,0.0007568434,0.03001196,0.12029377,0.063509606,0.06585718,0.02462675,0.0350238,0.034115806,0.0020694088,0.00783126,-0.049542293,0.0669508,-0.025553677,-0.034422256,-0.07200099,-0.026585063,0.03261486,-0.09777496,0.07671848,-0.035930384,0.0068459627,0.018878093,-0.03362382,0.12763198,-0.09367568,0.08403044,0.07881879,0.020286497,0.008332127,0.12171316,0.08964911,-0.10850577,-0.009542783,0.08193576,0.036900226,0.009609444,0.06546252,0.07405318,0.050379533,-5.880388e-33,0.02096275,0.046256505,0.06816558,-0.058345277,-0.07329846,-0.011554212,0.007417938,0.0486521,-0.052395374,0.012774668,-0.03661818,0.05789093,-0.01245287,-0.033884764,0.035380326,0.011931968,-0.07692502,-0.032270283,0.003905188,0.0039360924,-0.030178918,0.15898302,0.009565986,0.013511482,0.06159526,-0.013455573,-0.025633553,-0.077968776,0.03227463,0.026897863,0.01830075,-0.0024711925,-0.046190474,0.038590074,-0.03749727,-0.056150164,-0.053472493,0.027660437,-0.012251092,0.036528554,-0.022845266,0.056665033,0.021807984,-0.0010971705,0.02520234,0.008278207,0.0001898503,0.024394188,0.03041265,-0.020108039,-0.00020709465,-0.029067473,0.014017877,0.044780746,0.048787862,-0.021769574,0.044187523,0.008955084,0.05716326,0.030456586,-0.052428942,0.032863166,-0.068748936,0.019195795,0.0039840415,0.009735326,0.0616406,-0.0030779778,0.05554128,0.02278215,-0.0029228819,-0.0140265515,0.051659733,-0.0486689,0.026228456,-0.052469388,0.06075309,0.051071446,0.036151353,-0.07830213,-0.051204123,0.0063014333,0.027323155,0.004470286,-0.0102786245,0.004553878,-0.0179051,-0.0859509,0.0011924673,0.09695899,-0.069847815,0.024235297,-0.009367055,0.054682553,0.053757023,3.9602177e-33,0.0009165549,-0.056017645,0.09962803,0.041383255,0.0074999067,-0.058751654,0.0026569322,-0.06979634,0.07969959,0.09831761,0.07914228,0.013619777,0.032925926,-0.050607152,0.06543721,-0.044309944,0.056169793,-0.11051051,-0.00032348515,-0.060090154,0.14548,0.0698812,-0.0320079,0.013453304,0.028866913,-0.016780121,-0.039595254,-0.013687963,-0.050685562,-0.03966955,-0.023676563,0.011952876,0.04931679,0.04174613,-0.00017450059,0.0016598868,-0.08563979,-0.01918208,-0.06444347,0.06244361,0.011727357,-0.018905865,-0.058275428,0.024696022,-0.016081963,-0.0050920825,0.0042555337,0.06385744,-0.036182217,-0.0006975181,-0.07179376,0.03868754,-0.15466085,0.020204077,0.010278339,0.046241224,-0.0009989039,-0.015252339,0.06577276,-0.049910586,0.0486479,0.06926434,-0.030988745,-0.0015673166,0.031872153,-0.020837642,-0.012014494,0.025402375,-0.051478934,0.0054977555,-0.009611034,-0.04034225,-0.008267182,0.01738665,-0.07198621,0.093080215,-0.0010062827,-0.017133148,0.016066214,-0.013529816,-0.024909638,0.029691396,-0.0076832646,0.048108213,-0.029827813,0.07359449,0.060390353,-0.12742898,0.009132002,0.020781035,-0.02014554,-0.08293717,0.023657495,0.021907436,-0.019463008,-1.7040874e-08,-0.050668117,-0.031549558,-0.0013623269,0.0049191443,-0.0092233885,-0.068806306,-0.052200526,0.061884943,0.05192183,0.003601168,0.048089318,-0.0019279636,-0.037013635,-0.021655582,-0.015720867,-0.017157758,-0.01630794,-0.013409603,-0.0020384593,-0.04093365,-0.04772285,0.037497327,-0.021068249,-0.11079136,-0.035288956,-0.023840902,-0.056083657,-0.045013767,0.010910165,0.097234085,0.03193125,-0.037253156,0.03846272,-0.06367853,0.021141032,-0.004000234,0.00865584,-0.10412614,-0.0044403602,-0.041893024,0.043498367,0.026263753,-0.026340732,0.014675281,0.044867758,-0.037991177,0.08079707,-0.03916152,0.07967738,-0.116412416,-0.025717836,-0.064867705,-0.012245896,0.03941813,0.023120219,-0.009767942,-0.03224408,0.010229286,-0.03586355,-0.009523665,-0.0129813235,-0.03426847,0.054351687,0.027714336]'::vector) AS similarity,\n",
      "        q.question_text\n",
      "    FROM \n",
      "        question q\n",
      "        JOIN verified_query vq ON q.verified_query_id = vq.id\n",
      "    ORDER BY \n",
      "        similarity DESC\n",
      "    LIMIT :n\n",
      "    \n"
     ]
    },
    {
     "name": "stderr",
     "output_type": "stream",
     "text": [
      "\n",
      "2025-04-30 12:08:32,442 - httpx - INFO - HTTP Request: POST https://api.anthropic.com/v1/messages \"HTTP/1.1 200 OK\"\n"
     ]
    },
    {
     "name": "stdout",
     "output_type": "stream",
     "text": [
      "\n",
      "Best match: Top Performing Agencies by Premium (ID: vq_top_agencies_premium)\n",
      "Similarity score: 0.5682\n",
      "Confidence: 0.8\n",
      "Matched question: 'Show me the agencies with the most premium'\n",
      "Reasoning: The user's question 'who is the second best agency' is best matched by the 'Top Performing Agencies by Premium' query. This query provides a ranking of agencies by total premium, which can be used to identify the second best agency. The other candidate queries focus on agent performance, agency tiers, and regional comparisons, which do not directly address the specific question asked.\n",
      "\n",
      "Query explanation: This query calculates the total premium amount generated by each agency.  It joins the agencies, agents, and policies tables to aggregate premium amounts for active policies, then sorts them by total premium in descending order and limits result to 10 records.\n",
      "\n",
      "\n",
      "SQL:\n",
      "SELECT \n",
      "  a.agency_id,\n",
      "  a.agency_name,\n",
      "  a.region,\n",
      "  a.tier,\n",
      "  COUNT(p.policy_id) AS policy_count,\n",
      "  SUM(p.premium_amount) AS total_premium,\n",
      "  AVG(p.premium_amount) AS avg_premium\n",
      "FROM \n",
      "  agencies a\n",
      "  JOIN agents ag ON a.agency_id = ag.agency_id\n",
      "  JOIN policies p ON ag.agent_id = p.agent_id\n",
      "WHERE \n",
      "  p.status = 'active' -- active, lapsed, cancelled\n",
      "GROUP BY \n",
      "  a.agency_id, a.agency_name, a.region, a.tier\n",
      "ORDER BY \n",
      "  total_premium DESC\n",
      "LIMIT 10;\n"
     ]
    }
   ],
   "source": [
    "with Session(engine) as db:\n",
    "    # Test with a complex question\n",
    "    question = input(\"Enter a question to find the best query for: \")\n",
    "    if not question:\n",
    "        question = \"Which agencies in the Northeast region had the highest premium last quarter?\"\n",
    "        print(f\"Using default question: '{question}'\")\n",
    "    else:\n",
    "        print(f\"Searching for: '{question}'\")\n",
    "    \n",
    "    # Get results\n",
    "    print(\"\\nFinding best matching query using vector search + LLM ranking...\")\n",
    "    result = get_best_query(question, llm_service, db)\n",
    "    \n",
    "    if result:\n",
    "        vq = result[\"verified_query\"]\n",
    "        print(f\"\\nBest match: {vq.name} (ID: {vq.id})\")\n",
    "        print(f\"Similarity score: {result['similarity']:.4f}\")\n",
    "        print(f\"Confidence: {result.get('confidence', 'N/A')}\")\n",
    "        print(f\"Matched question: '{result.get('matched_question', 'N/A')}'\")\n",
    "        print(f\"Reasoning: {result.get('reasoning', 'N/A')}\")\n",
    "        print(f\"\\nQuery explanation: {vq.query_explanation}\")\n",
    "        print(f\"\\nSQL:\\n{vq.sql}\")\n",
    "    else:\n",
    "        print(\"No matching query found\")"
   ]
  },
  {
   "cell_type": "markdown",
   "metadata": {},
   "source": [
    "## Test getting follow-up queries\n"
   ]
  },
  {
   "cell_type": "code",
   "execution_count": 10,
   "metadata": {},
   "outputs": [
    {
     "name": "stdout",
     "output_type": "stream",
     "text": [
      "\n",
      "Getting follow-ups for query ID: vq_top_agencies_premium\n",
      "\n",
      "Found 7 follow-up queries:\n",
      "\n",
      "Follow-up 1: Regional Agency Performance (ID: vq_agency_performance_by_region)\n",
      "Explanation: This query analyzes agency performance by region, showing the number of agencies, average premium pe...\n",
      "Questions: How are our agencies performing by region?, Which regions generate the most premium?\n",
      "\n",
      "Follow-up 2: Agency Performance by Tier (ID: vq_agency_performance_by_tier)\n",
      "Explanation: This query analyzes agency performance by tier (Gold, Silver, Bronze, Platinum), showing the number ...\n",
      "Questions: How are agencies performing by tier?, Which agency tier generates the most premium?\n",
      "\n",
      "Follow-up 3: Top Agencies by Average Premium (ID: vq_top_agencies_avg_premium)\n",
      "Explanation: This query identifies agencies with the highest average premium per policy, which may indicate agenc...\n",
      "Questions: Which agencies have the highest average premium per policy?, What agencies focus on high-value policies?\n",
      "\n",
      "Follow-up 4: Policy Type Performance Analysis (ID: vq_policy_type_performance)\n",
      "Explanation: This query analyzes the performance of different policy types by measuring policy count, total premi...\n",
      "Questions: How are different policy types performing?, Which policy types generate the most premium?\n",
      "\n",
      "Follow-up 5: Claims Analysis by Policy Type (ID: vq_claims_analysis_by_policy_type)\n",
      "Explanation: This query analyzes claims data grouped by policy type, showing total claim amount, average claim am...\n",
      "Questions: What are our loss ratios by policy type?, How do claims vary by policy type?\n",
      "\n",
      "Follow-up 6: Distribution Channel Performance Analysis (ID: vq_distribution_channel_performance)\n",
      "Explanation: This query analyzes the performance of different distribution channels by measuring total premium, p...\n",
      "Questions: How are our different distribution channels performing?, Which distribution channels generate the most premium?\n",
      "\n",
      "Follow-up 7: Agent Performance Report (ID: vq_agent_performance_report)\n",
      "Explanation: This query provides a performance report for agents, including their agency, certification level,  n...\n",
      "Questions: How are our agents performing in terms of sales?, Which agents generate the most premium?\n"
     ]
    }
   ],
   "source": [
    "with Session(engine) as db:\n",
    "    # Get a query with follow-ups\n",
    "    query_id = input(\"Enter a query ID to get follow-ups for (or press Enter for default): \")\n",
    "    if not query_id:\n",
    "        query_id = \"vq_top_agencies_premium\"\n",
    "    \n",
    "    print(f\"\\nGetting follow-ups for query ID: {query_id}\")\n",
    "    follow_ups = get_follow_up_queries(query_id, db)\n",
    "    \n",
    "    if follow_ups:\n",
    "        print(f\"\\nFound {len(follow_ups)} follow-up queries:\")\n",
    "        for i, fu in enumerate(follow_ups):\n",
    "            print(f\"\\nFollow-up {i+1}: {fu.name} (ID: {fu.id})\")\n",
    "            print(f\"Explanation: {fu.query_explanation[:100]}...\")\n",
    "            print(f\"Questions: {', '.join([q.text for q in fu.questions[:2]])}\")\n",
    "    else:\n",
    "        print(f\"No follow-up queries found for query ID: {query_id}\")"
   ]
  }
 ],
 "metadata": {
  "kernelspec": {
   "display_name": "smart_query_assistant-PYJH9x9M",
   "language": "python",
   "name": "python3"
  },
  "language_info": {
   "codemirror_mode": {
    "name": "ipython",
    "version": 3
   },
   "file_extension": ".py",
   "mimetype": "text/x-python",
   "name": "python",
   "nbconvert_exporter": "python",
   "pygments_lexer": "ipython3",
   "version": "3.11.9"
  }
 },
 "nbformat": 4,
 "nbformat_minor": 2
}
